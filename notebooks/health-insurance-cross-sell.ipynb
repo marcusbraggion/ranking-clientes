{
 "cells": [
  {
   "cell_type": "markdown",
   "id": "89dc1951",
   "metadata": {},
   "source": [
    "# 0.0 IMPORTS"
   ]
  },
  {
   "cell_type": "code",
   "execution_count": 1,
   "id": "274f2e06",
   "metadata": {
    "ExecuteTime": {
     "end_time": "2022-07-27T00:03:04.357991Z",
     "start_time": "2022-07-27T00:02:57.113892Z"
    }
   },
   "outputs": [],
   "source": [
    "import warnings \n",
    "import pickle\n",
    "\n",
    "import pandas as pd\n",
    "import numpy as np\n",
    "import seaborn as sns\n",
    "import matplotlib.pyplot as plt\n",
    "\n",
    "from sklearn import preprocessing as pp\n",
    "from sklearn import model_selection as ms\n",
    "from sklearn.model_selection import cross_validate\n",
    "from sklearn.model_selection import RandomizedSearchCV\n",
    "\n",
    "import xgboost as xgb\n",
    "from sklearn import ensemble as en\n",
    "from sklearn import neighbors as nh\n",
    "from sklearn import linear_model as lm\n",
    "from sklearn.ensemble import ExtraTreesClassifier\n",
    "\n",
    "import scikitplot as skplt\n",
    "\n",
    "from IPython.display         import Image\n",
    "from IPython.display         import HTML"
   ]
  },
  {
   "cell_type": "markdown",
   "id": "a261f10e",
   "metadata": {},
   "source": [
    "## 0.1 Helper Functions"
   ]
  },
  {
   "cell_type": "code",
   "execution_count": 2,
   "id": "fb7ac1c9",
   "metadata": {
    "ExecuteTime": {
     "end_time": "2022-07-27T00:03:04.467246Z",
     "start_time": "2022-07-27T00:03:04.443225Z"
    }
   },
   "outputs": [],
   "source": [
    "def metrics_score(model_name, model, X, y):\n",
    "    \n",
    "    scoring = ['precision', 'recall']\n",
    "    \n",
    "    scores = cross_validate(model, X, y, cv=5, scoring=scoring)\n",
    "        \n",
    "    return pd.DataFrame({'Modelo': model_name,\n",
    "                         'Precisão': scores['test_precision'].mean(),\n",
    "                         'Recall': scores['test_recall'].mean()}, index=[0])\n",
    "\n",
    "def precision_at_k(df, k=2000):\n",
    "    \n",
    "    df = df.sort_values('score', ascending=False)\n",
    "\n",
    "    df = df.reset_index(drop=True)\n",
    "\n",
    "    df['ranking'] = df.index + 1\n",
    "    df['precision_at_k'] = df['response'].cumsum() /df['ranking']\n",
    "    \n",
    "    return df.loc[k, 'precision_at_k']\n",
    "\n",
    "def recall_at_k(df, k=2000):\n",
    "    \n",
    "    df = df.sort_values('score', ascending=False)\n",
    "\n",
    "    df = df.reset_index(drop=True)\n",
    "\n",
    "    df['ranking'] = df.index + 1\n",
    "    df['recall_at_k'] = df['response'].cumsum() / df['response'].sum()\n",
    "    \n",
    "    return df.loc[k, 'recall_at_k']\n",
    "\n",
    "def jupyter_settings():\n",
    "    %matplotlib inline\n",
    "    %pylab inline\n",
    "    \n",
    "    plt.style.use( 'bmh' )\n",
    "    plt.rcParams['figure.figsize'] = [22, 11]\n",
    "    plt.rcParams['font.size'] = 23\n",
    "    \n",
    "    display( HTML( '<style>.container { width: 90% !important; }</style>') )\n",
    "    pd.options.display.max_columns = None\n",
    "    pd.options.display.max_rows = None\n",
    "    pd.set_option( 'display.expand_frame_repr', False )\n",
    "    \n",
    "    sns.set()\n",
    "    \n",
    "\n",
    "    warnings.filterwarnings(\"ignore\")"
   ]
  },
  {
   "cell_type": "code",
   "execution_count": 3,
   "id": "3bf6504e",
   "metadata": {
    "ExecuteTime": {
     "end_time": "2022-07-27T00:03:05.141014Z",
     "start_time": "2022-07-27T00:03:05.077009Z"
    }
   },
   "outputs": [
    {
     "name": "stdout",
     "output_type": "stream",
     "text": [
      "%pylab is deprecated, use %matplotlib inline and import the required libraries.\n",
      "Populating the interactive namespace from numpy and matplotlib\n"
     ]
    },
    {
     "data": {
      "text/html": [
       "<style>.container { width: 90% !important; }</style>"
      ],
      "text/plain": [
       "<IPython.core.display.HTML object>"
      ]
     },
     "metadata": {},
     "output_type": "display_data"
    }
   ],
   "source": [
    "jupyter_settings()"
   ]
  },
  {
   "cell_type": "markdown",
   "id": "dd5e82ed",
   "metadata": {},
   "source": [
    "## 0.2 Loading Data"
   ]
  },
  {
   "cell_type": "code",
   "execution_count": 4,
   "id": "3bdf4c59",
   "metadata": {
    "ExecuteTime": {
     "end_time": "2022-07-27T00:03:06.619401Z",
     "start_time": "2022-07-27T00:03:06.242609Z"
    }
   },
   "outputs": [],
   "source": [
    "df_raw = pd.read_csv('../data/raw/train.csv', low_memory=False)"
   ]
  },
  {
   "cell_type": "code",
   "execution_count": 5,
   "id": "4276878b",
   "metadata": {
    "ExecuteTime": {
     "end_time": "2022-07-27T00:03:06.836060Z",
     "start_time": "2022-07-27T00:03:06.749218Z"
    }
   },
   "outputs": [
    {
     "data": {
      "text/html": [
       "<div>\n",
       "<style scoped>\n",
       "    .dataframe tbody tr th:only-of-type {\n",
       "        vertical-align: middle;\n",
       "    }\n",
       "\n",
       "    .dataframe tbody tr th {\n",
       "        vertical-align: top;\n",
       "    }\n",
       "\n",
       "    .dataframe thead th {\n",
       "        text-align: right;\n",
       "    }\n",
       "</style>\n",
       "<table border=\"1\" class=\"dataframe\">\n",
       "  <thead>\n",
       "    <tr style=\"text-align: right;\">\n",
       "      <th></th>\n",
       "      <th>id</th>\n",
       "      <th>Gender</th>\n",
       "      <th>Age</th>\n",
       "      <th>Driving_License</th>\n",
       "      <th>Region_Code</th>\n",
       "      <th>Previously_Insured</th>\n",
       "      <th>Vehicle_Age</th>\n",
       "      <th>Vehicle_Damage</th>\n",
       "      <th>Annual_Premium</th>\n",
       "      <th>Policy_Sales_Channel</th>\n",
       "      <th>Vintage</th>\n",
       "      <th>Response</th>\n",
       "    </tr>\n",
       "  </thead>\n",
       "  <tbody>\n",
       "    <tr>\n",
       "      <th>0</th>\n",
       "      <td>1</td>\n",
       "      <td>Male</td>\n",
       "      <td>44</td>\n",
       "      <td>1</td>\n",
       "      <td>28.0</td>\n",
       "      <td>0</td>\n",
       "      <td>&gt; 2 Years</td>\n",
       "      <td>Yes</td>\n",
       "      <td>40454.0</td>\n",
       "      <td>26.0</td>\n",
       "      <td>217</td>\n",
       "      <td>1</td>\n",
       "    </tr>\n",
       "    <tr>\n",
       "      <th>1</th>\n",
       "      <td>2</td>\n",
       "      <td>Male</td>\n",
       "      <td>76</td>\n",
       "      <td>1</td>\n",
       "      <td>3.0</td>\n",
       "      <td>0</td>\n",
       "      <td>1-2 Year</td>\n",
       "      <td>No</td>\n",
       "      <td>33536.0</td>\n",
       "      <td>26.0</td>\n",
       "      <td>183</td>\n",
       "      <td>0</td>\n",
       "    </tr>\n",
       "    <tr>\n",
       "      <th>2</th>\n",
       "      <td>3</td>\n",
       "      <td>Male</td>\n",
       "      <td>47</td>\n",
       "      <td>1</td>\n",
       "      <td>28.0</td>\n",
       "      <td>0</td>\n",
       "      <td>&gt; 2 Years</td>\n",
       "      <td>Yes</td>\n",
       "      <td>38294.0</td>\n",
       "      <td>26.0</td>\n",
       "      <td>27</td>\n",
       "      <td>1</td>\n",
       "    </tr>\n",
       "    <tr>\n",
       "      <th>3</th>\n",
       "      <td>4</td>\n",
       "      <td>Male</td>\n",
       "      <td>21</td>\n",
       "      <td>1</td>\n",
       "      <td>11.0</td>\n",
       "      <td>1</td>\n",
       "      <td>&lt; 1 Year</td>\n",
       "      <td>No</td>\n",
       "      <td>28619.0</td>\n",
       "      <td>152.0</td>\n",
       "      <td>203</td>\n",
       "      <td>0</td>\n",
       "    </tr>\n",
       "    <tr>\n",
       "      <th>4</th>\n",
       "      <td>5</td>\n",
       "      <td>Female</td>\n",
       "      <td>29</td>\n",
       "      <td>1</td>\n",
       "      <td>41.0</td>\n",
       "      <td>1</td>\n",
       "      <td>&lt; 1 Year</td>\n",
       "      <td>No</td>\n",
       "      <td>27496.0</td>\n",
       "      <td>152.0</td>\n",
       "      <td>39</td>\n",
       "      <td>0</td>\n",
       "    </tr>\n",
       "  </tbody>\n",
       "</table>\n",
       "</div>"
      ],
      "text/plain": [
       "   id  Gender  Age  Driving_License  Region_Code  Previously_Insured Vehicle_Age Vehicle_Damage  Annual_Premium  Policy_Sales_Channel  Vintage  Response\n",
       "0   1    Male   44                1         28.0                   0   > 2 Years            Yes         40454.0                  26.0      217         1\n",
       "1   2    Male   76                1          3.0                   0    1-2 Year             No         33536.0                  26.0      183         0\n",
       "2   3    Male   47                1         28.0                   0   > 2 Years            Yes         38294.0                  26.0       27         1\n",
       "3   4    Male   21                1         11.0                   1    < 1 Year             No         28619.0                 152.0      203         0\n",
       "4   5  Female   29                1         41.0                   1    < 1 Year             No         27496.0                 152.0       39         0"
      ]
     },
     "execution_count": 5,
     "metadata": {},
     "output_type": "execute_result"
    }
   ],
   "source": [
    "df_raw.head()"
   ]
  },
  {
   "cell_type": "markdown",
   "id": "cc908f60",
   "metadata": {},
   "source": [
    "# 1.0 DESCRIÇÃO DOS DADOS"
   ]
  },
  {
   "cell_type": "code",
   "execution_count": 6,
   "id": "527bca27",
   "metadata": {
    "ExecuteTime": {
     "end_time": "2022-07-27T00:03:08.457633Z",
     "start_time": "2022-07-27T00:03:08.441601Z"
    }
   },
   "outputs": [],
   "source": [
    "df1 = df_raw.copy()"
   ]
  },
  {
   "cell_type": "code",
   "execution_count": 7,
   "id": "248d4c46",
   "metadata": {
    "ExecuteTime": {
     "end_time": "2022-07-27T00:03:09.042186Z",
     "start_time": "2022-07-27T00:03:09.018163Z"
    }
   },
   "outputs": [],
   "source": [
    "new_columns = ['id',\n",
    "            'gender',\n",
    "            'age',\n",
    "            'driving_license',\n",
    "            'region_code',\n",
    "            'previously_insured',\n",
    "            'vehicle_age',\n",
    "            'vehicle_damage',\n",
    "            'annual_premium',\n",
    "            'policy_sales_channel',\n",
    "            'vintage',\n",
    "            'response']\n",
    "    \n",
    "df1.columns = new_columns"
   ]
  },
  {
   "cell_type": "markdown",
   "id": "f1d53d4d",
   "metadata": {},
   "source": [
    "## 1.1 Dimensão dos Dados"
   ]
  },
  {
   "cell_type": "code",
   "execution_count": 111,
   "id": "8974a50d",
   "metadata": {
    "ExecuteTime": {
     "end_time": "2022-07-25T00:51:41.846432Z",
     "start_time": "2022-07-25T00:51:41.841433Z"
    }
   },
   "outputs": [
    {
     "name": "stdout",
     "output_type": "stream",
     "text": [
      "Número de linhas: 381109\n",
      "Número de colunas: 12\n"
     ]
    }
   ],
   "source": [
    "print(f'Número de linhas: {df1.shape[0]}')\n",
    "print(f'Número de colunas: {df1.shape[1]}')"
   ]
  },
  {
   "cell_type": "markdown",
   "id": "5242ca3d",
   "metadata": {},
   "source": [
    "## 1.2 Data Types\n"
   ]
  },
  {
   "cell_type": "code",
   "execution_count": 45,
   "id": "8617968f",
   "metadata": {
    "ExecuteTime": {
     "end_time": "2022-07-25T11:30:46.856224Z",
     "start_time": "2022-07-25T11:30:46.840597Z"
    }
   },
   "outputs": [
    {
     "data": {
      "text/plain": [
       "id                        int64\n",
       "gender                   object\n",
       "age                       int64\n",
       "driving_license           int64\n",
       "region_code             float64\n",
       "previously_insured        int64\n",
       "vehicle_age              object\n",
       "vehicle_damage           object\n",
       "annual_premium          float64\n",
       "policy_sales_channel    float64\n",
       "vintage                   int64\n",
       "response                  int64\n",
       "dtype: object"
      ]
     },
     "execution_count": 45,
     "metadata": {},
     "output_type": "execute_result"
    }
   ],
   "source": [
    "df1.dtypes"
   ]
  },
  {
   "cell_type": "markdown",
   "id": "3d42fe1c",
   "metadata": {},
   "source": [
    "## 1.3 Check NA"
   ]
  },
  {
   "cell_type": "code",
   "execution_count": 10,
   "id": "02501460",
   "metadata": {
    "ExecuteTime": {
     "end_time": "2022-07-19T16:41:48.031387Z",
     "start_time": "2022-07-19T16:41:47.984446Z"
    }
   },
   "outputs": [
    {
     "data": {
      "text/plain": [
       "id                      0\n",
       "gender                  0\n",
       "age                     0\n",
       "driving_license         0\n",
       "region_code             0\n",
       "previously_insured      0\n",
       "vehicle_age             0\n",
       "vehicle_damage          0\n",
       "annual_premium          0\n",
       "policy_sales_channel    0\n",
       "vintage                 0\n",
       "response                0\n",
       "dtype: int64"
      ]
     },
     "execution_count": 10,
     "metadata": {},
     "output_type": "execute_result"
    }
   ],
   "source": [
    "df1.isna().sum()"
   ]
  },
  {
   "cell_type": "markdown",
   "id": "6f40ff39",
   "metadata": {},
   "source": [
    "## 1.4 Estatistica Descritiva"
   ]
  },
  {
   "cell_type": "code",
   "execution_count": 11,
   "id": "cb2a3d19",
   "metadata": {
    "ExecuteTime": {
     "end_time": "2022-07-19T16:41:48.063479Z",
     "start_time": "2022-07-19T16:41:48.032355Z"
    }
   },
   "outputs": [],
   "source": [
    "num_attributes = df1.select_dtypes( include=['int64', 'float64'] )\n",
    "cat_attributes = df1.select_dtypes( exclude=['int64', 'float64', 'datetime64[ns]'] )"
   ]
  },
  {
   "cell_type": "markdown",
   "id": "7138f231",
   "metadata": {},
   "source": [
    "### 1.4.1 Atributos Numéricos"
   ]
  },
  {
   "cell_type": "code",
   "execution_count": 12,
   "id": "9be9ad89",
   "metadata": {
    "ExecuteTime": {
     "end_time": "2022-07-19T16:41:48.610362Z",
     "start_time": "2022-07-19T16:41:48.065488Z"
    }
   },
   "outputs": [
    {
     "data": {
      "text/html": [
       "<div>\n",
       "<style scoped>\n",
       "    .dataframe tbody tr th:only-of-type {\n",
       "        vertical-align: middle;\n",
       "    }\n",
       "\n",
       "    .dataframe tbody tr th {\n",
       "        vertical-align: top;\n",
       "    }\n",
       "\n",
       "    .dataframe thead th {\n",
       "        text-align: right;\n",
       "    }\n",
       "</style>\n",
       "<table border=\"1\" class=\"dataframe\">\n",
       "  <thead>\n",
       "    <tr style=\"text-align: right;\">\n",
       "      <th></th>\n",
       "      <th>attributes</th>\n",
       "      <th>min</th>\n",
       "      <th>max</th>\n",
       "      <th>range</th>\n",
       "      <th>mean</th>\n",
       "      <th>median</th>\n",
       "      <th>std</th>\n",
       "      <th>skew</th>\n",
       "      <th>kurtosis</th>\n",
       "    </tr>\n",
       "  </thead>\n",
       "  <tbody>\n",
       "    <tr>\n",
       "      <th>0</th>\n",
       "      <td>id</td>\n",
       "      <td>1.0</td>\n",
       "      <td>381109.0</td>\n",
       "      <td>381108.0</td>\n",
       "      <td>190555.000000</td>\n",
       "      <td>190555.0</td>\n",
       "      <td>110016.691870</td>\n",
       "      <td>9.443274e-16</td>\n",
       "      <td>-1.200000</td>\n",
       "    </tr>\n",
       "    <tr>\n",
       "      <th>1</th>\n",
       "      <td>age</td>\n",
       "      <td>20.0</td>\n",
       "      <td>85.0</td>\n",
       "      <td>65.0</td>\n",
       "      <td>38.822584</td>\n",
       "      <td>36.0</td>\n",
       "      <td>15.511591</td>\n",
       "      <td>6.725390e-01</td>\n",
       "      <td>-0.565655</td>\n",
       "    </tr>\n",
       "    <tr>\n",
       "      <th>2</th>\n",
       "      <td>driving_license</td>\n",
       "      <td>0.0</td>\n",
       "      <td>1.0</td>\n",
       "      <td>1.0</td>\n",
       "      <td>0.997869</td>\n",
       "      <td>1.0</td>\n",
       "      <td>0.046109</td>\n",
       "      <td>-2.159518e+01</td>\n",
       "      <td>464.354302</td>\n",
       "    </tr>\n",
       "    <tr>\n",
       "      <th>3</th>\n",
       "      <td>region_code</td>\n",
       "      <td>0.0</td>\n",
       "      <td>52.0</td>\n",
       "      <td>52.0</td>\n",
       "      <td>26.388807</td>\n",
       "      <td>28.0</td>\n",
       "      <td>13.229871</td>\n",
       "      <td>-1.152664e-01</td>\n",
       "      <td>-0.867857</td>\n",
       "    </tr>\n",
       "    <tr>\n",
       "      <th>4</th>\n",
       "      <td>previously_insured</td>\n",
       "      <td>0.0</td>\n",
       "      <td>1.0</td>\n",
       "      <td>1.0</td>\n",
       "      <td>0.458210</td>\n",
       "      <td>0.0</td>\n",
       "      <td>0.498251</td>\n",
       "      <td>1.677471e-01</td>\n",
       "      <td>-1.971871</td>\n",
       "    </tr>\n",
       "    <tr>\n",
       "      <th>5</th>\n",
       "      <td>annual_premium</td>\n",
       "      <td>2630.0</td>\n",
       "      <td>540165.0</td>\n",
       "      <td>537535.0</td>\n",
       "      <td>30564.389581</td>\n",
       "      <td>31669.0</td>\n",
       "      <td>17213.132474</td>\n",
       "      <td>1.766087e+00</td>\n",
       "      <td>34.004569</td>\n",
       "    </tr>\n",
       "    <tr>\n",
       "      <th>6</th>\n",
       "      <td>policy_sales_channel</td>\n",
       "      <td>1.0</td>\n",
       "      <td>163.0</td>\n",
       "      <td>162.0</td>\n",
       "      <td>112.034295</td>\n",
       "      <td>133.0</td>\n",
       "      <td>54.203924</td>\n",
       "      <td>-9.000081e-01</td>\n",
       "      <td>-0.970810</td>\n",
       "    </tr>\n",
       "    <tr>\n",
       "      <th>7</th>\n",
       "      <td>vintage</td>\n",
       "      <td>10.0</td>\n",
       "      <td>299.0</td>\n",
       "      <td>289.0</td>\n",
       "      <td>154.347397</td>\n",
       "      <td>154.0</td>\n",
       "      <td>83.671194</td>\n",
       "      <td>3.029517e-03</td>\n",
       "      <td>-1.200688</td>\n",
       "    </tr>\n",
       "    <tr>\n",
       "      <th>8</th>\n",
       "      <td>response</td>\n",
       "      <td>0.0</td>\n",
       "      <td>1.0</td>\n",
       "      <td>1.0</td>\n",
       "      <td>0.122563</td>\n",
       "      <td>0.0</td>\n",
       "      <td>0.327935</td>\n",
       "      <td>2.301906e+00</td>\n",
       "      <td>3.298788</td>\n",
       "    </tr>\n",
       "  </tbody>\n",
       "</table>\n",
       "</div>"
      ],
      "text/plain": [
       "             attributes     min       max     range           mean    median  \\\n",
       "0                    id     1.0  381109.0  381108.0  190555.000000  190555.0   \n",
       "1                   age    20.0      85.0      65.0      38.822584      36.0   \n",
       "2       driving_license     0.0       1.0       1.0       0.997869       1.0   \n",
       "3           region_code     0.0      52.0      52.0      26.388807      28.0   \n",
       "4    previously_insured     0.0       1.0       1.0       0.458210       0.0   \n",
       "5        annual_premium  2630.0  540165.0  537535.0   30564.389581   31669.0   \n",
       "6  policy_sales_channel     1.0     163.0     162.0     112.034295     133.0   \n",
       "7               vintage    10.0     299.0     289.0     154.347397     154.0   \n",
       "8              response     0.0       1.0       1.0       0.122563       0.0   \n",
       "\n",
       "             std          skew    kurtosis  \n",
       "0  110016.691870  9.443274e-16   -1.200000  \n",
       "1      15.511591  6.725390e-01   -0.565655  \n",
       "2       0.046109 -2.159518e+01  464.354302  \n",
       "3      13.229871 -1.152664e-01   -0.867857  \n",
       "4       0.498251  1.677471e-01   -1.971871  \n",
       "5   17213.132474  1.766087e+00   34.004569  \n",
       "6      54.203924 -9.000081e-01   -0.970810  \n",
       "7      83.671194  3.029517e-03   -1.200688  \n",
       "8       0.327935  2.301906e+00    3.298788  "
      ]
     },
     "execution_count": 12,
     "metadata": {},
     "output_type": "execute_result"
    }
   ],
   "source": [
    "# Central Tendency - mean, meadina\n",
    "ct1 = pd.DataFrame( num_attributes.apply( np.mean ) ).T\n",
    "ct2 = pd.DataFrame( num_attributes.apply( np.median ) ).T\n",
    "# dispersion - std, min, max, range, skew, kurtosis\n",
    "d1 = pd.DataFrame( num_attributes.apply( np.std ) ).T\n",
    "d2 = pd.DataFrame( num_attributes.apply( min ) ).T\n",
    "d3 = pd.DataFrame( num_attributes.apply( max ) ).T\n",
    "d4 = pd.DataFrame( num_attributes.apply( lambda x: x.max() - x.min() ) ).T\n",
    "d5 = pd.DataFrame( num_attributes.apply( lambda x: x.skew() ) ).T\n",
    "d6 = pd.DataFrame( num_attributes.apply( lambda x: x.kurtosis() ) ).T\n",
    "\n",
    "# concatenar\n",
    "m = pd.concat( [d2, d3, d4, ct1, ct2, d1, d5, d6] ).T.reset_index()\n",
    "m.columns = ['attributes', 'min', 'max', 'range', 'mean', 'median', 'std', 'skew', 'kurtosis']\n",
    "m"
   ]
  },
  {
   "cell_type": "markdown",
   "id": "d601e26c",
   "metadata": {},
   "source": [
    "### 1.4.2 Atributos Categóricos"
   ]
  },
  {
   "cell_type": "code",
   "execution_count": 13,
   "id": "f85fa063",
   "metadata": {
    "ExecuteTime": {
     "end_time": "2022-07-19T16:41:48.672429Z",
     "start_time": "2022-07-19T16:41:48.611612Z"
    }
   },
   "outputs": [
    {
     "data": {
      "text/plain": [
       "gender            2\n",
       "vehicle_age       3\n",
       "vehicle_damage    2\n",
       "dtype: int64"
      ]
     },
     "execution_count": 13,
     "metadata": {},
     "output_type": "execute_result"
    }
   ],
   "source": [
    "cat_attributes.apply( lambda x: x.unique().shape[0] )"
   ]
  },
  {
   "cell_type": "markdown",
   "id": "eb37eb27",
   "metadata": {},
   "source": [
    "# 2.0 FEATURE ENGINEERING"
   ]
  },
  {
   "cell_type": "code",
   "execution_count": 8,
   "id": "68ed36cc",
   "metadata": {
    "ExecuteTime": {
     "end_time": "2022-07-27T00:03:13.510763Z",
     "start_time": "2022-07-27T00:03:13.478731Z"
    },
    "hide_input": false
   },
   "outputs": [],
   "source": [
    "df2 = df1.copy()"
   ]
  },
  {
   "cell_type": "markdown",
   "id": "c201a5b1",
   "metadata": {},
   "source": [
    "## 2.1 Mapa Mental de Hipóteses"
   ]
  },
  {
   "cell_type": "code",
   "execution_count": 24,
   "id": "d4957149",
   "metadata": {
    "ExecuteTime": {
     "end_time": "2022-07-24T22:47:01.888890Z",
     "start_time": "2022-07-24T22:47:01.874897Z"
    },
    "scrolled": false
   },
   "outputs": [
    {
     "data": {
      "image/png": "[encoded data removed]",
      "text/plain": [
       "<IPython.core.display.Image object>"
      ]
     },
     "execution_count": 24,
     "metadata": {},
     "output_type": "execute_result"
    }
   ],
   "source": [
    "Image('../images/Interesse_em_Seguro_de_Automvel.png')"
   ]
  },
  {
   "cell_type": "markdown",
   "id": "57a9f0dd",
   "metadata": {},
   "source": [
    "## 2.2 Lista de Hipoteses"
   ]
  },
  {
   "cell_type": "markdown",
   "id": "2defdd34",
   "metadata": {},
   "source": [
    "**H1.** Interesse em contratar seguro aumenta quando a pessoa possui veiculo que já sofreu damage anteriormente.\n",
    "\n",
    "**H2.** Interesse em contratar seguro aumenta em regiões quando o carro está em condição nova.\n",
    "\n",
    "**H3.** Interesse em contratar seguro aumenta em regiões com mais acidentes registrados.  \n",
    "\n",
    "**H4.** Interesse em contratar seguro aumenta em pessoas com idade maior a 40 anos.\n",
    "\n",
    "**H5.** Acidentes acontecem com pessoas que não possuem liçenca para dirigir. \n",
    "\n",
    "**H6.** Acidentes acontecem mais com pessoas que possuem seguro.\n",
    "\n",
    "**H7.** O pagamento anual aumenta quando os veículos já sofreram acidente anteriormente."
   ]
  },
  {
   "cell_type": "markdown",
   "id": "c39837a5",
   "metadata": {},
   "source": [
    "\n",
    "## 2.3 Feature Engineering"
   ]
  },
  {
   "cell_type": "code",
   "execution_count": 9,
   "id": "829c512f",
   "metadata": {
    "ExecuteTime": {
     "end_time": "2022-07-27T00:03:18.068286Z",
     "start_time": "2022-07-27T00:03:17.885645Z"
    }
   },
   "outputs": [],
   "source": [
    "df2['vehicle_age'] = df2['vehicle_age'].apply(lambda x: 'over_2_years' if x == '> 2 Years' else 'between_1_2_year' if x == '1-2 Year' else 'below_1_year')\n",
    "\n",
    "df2['vehicle_damage'] = df2['vehicle_damage'].apply(lambda x: 0 if x == 'No' else 1)"
   ]
  },
  {
   "cell_type": "markdown",
   "id": "b0989e9a",
   "metadata": {},
   "source": [
    "# 3.0 FILTRAGEM DOS DADOS"
   ]
  },
  {
   "cell_type": "code",
   "execution_count": 10,
   "id": "e4de720a",
   "metadata": {
    "ExecuteTime": {
     "end_time": "2022-07-27T00:03:18.826908Z",
     "start_time": "2022-07-27T00:03:18.778904Z"
    }
   },
   "outputs": [],
   "source": [
    "df3 = df2.copy()"
   ]
  },
  {
   "cell_type": "markdown",
   "id": "676c378c",
   "metadata": {},
   "source": [
    "# 4.0 ANALISE EXPLORATÓRIA DOS DADOS"
   ]
  },
  {
   "cell_type": "code",
   "execution_count": 11,
   "id": "f58cf96d",
   "metadata": {
    "ExecuteTime": {
     "end_time": "2022-07-27T00:03:19.746237Z",
     "start_time": "2022-07-27T00:03:19.722232Z"
    }
   },
   "outputs": [],
   "source": [
    "df4 = df3.copy()"
   ]
  },
  {
   "cell_type": "markdown",
   "id": "44597836",
   "metadata": {},
   "source": [
    "## 4.1 Analise Univariada"
   ]
  },
  {
   "cell_type": "code",
   "execution_count": 12,
   "id": "811d2561",
   "metadata": {
    "ExecuteTime": {
     "end_time": "2022-07-20T08:46:53.189303Z",
     "start_time": "2022-07-20T08:46:52.700568Z"
    }
   },
   "outputs": [
    {
     "ename": "NameError",
     "evalue": "name 'df4' is not defined",
     "output_type": "error",
     "traceback": [
      "\u001b[1;31m---------------------------------------------------------------------------\u001b[0m",
      "\u001b[1;31mNameError\u001b[0m                                 Traceback (most recent call last)",
      "\u001b[1;32m~\\AppData\\Local\\Temp/ipykernel_8312/2387997254.py\u001b[0m in \u001b[0;36m<module>\u001b[1;34m\u001b[0m\n\u001b[0;32m      1\u001b[0m \u001b[1;31m# gender\u001b[0m\u001b[1;33m\u001b[0m\u001b[1;33m\u001b[0m\u001b[0m\n\u001b[1;32m----> 2\u001b[1;33m \u001b[0msns\u001b[0m\u001b[1;33m.\u001b[0m\u001b[0mboxplot\u001b[0m\u001b[1;33m(\u001b[0m\u001b[0mx\u001b[0m\u001b[1;33m=\u001b[0m\u001b[1;34m'response'\u001b[0m\u001b[1;33m,\u001b[0m \u001b[0my\u001b[0m\u001b[1;33m=\u001b[0m\u001b[1;34m'age'\u001b[0m\u001b[1;33m,\u001b[0m \u001b[0mdata\u001b[0m\u001b[1;33m=\u001b[0m\u001b[0mdf4\u001b[0m\u001b[1;33m)\u001b[0m\u001b[1;33m\u001b[0m\u001b[1;33m\u001b[0m\u001b[0m\n\u001b[0m",
      "\u001b[1;31mNameError\u001b[0m: name 'df4' is not defined"
     ]
    }
   ],
   "source": [
    "# gender\n",
    "sns.boxplot(x='response', y='age', data=df4)"
   ]
  },
  {
   "cell_type": "code",
   "execution_count": 19,
   "id": "516d826c",
   "metadata": {
    "ExecuteTime": {
     "end_time": "2022-07-19T16:41:49.624628Z",
     "start_time": "2022-07-19T16:41:49.216515Z"
    },
    "cell_style": "split",
    "hide_input": false,
    "scrolled": true
   },
   "outputs": [
    {
     "data": {
      "text/plain": [
       "<AxesSubplot:xlabel='age', ylabel='Count'>"
      ]
     },
     "execution_count": 19,
     "metadata": {},
     "output_type": "execute_result"
    },
    {
     "data": {
      "image/png": "[encoded data removed]",
      "text/plain": [
       "<Figure size 432x288 with 1 Axes>"
      ]
     },
     "metadata": {
      "needs_background": "light"
     },
     "output_type": "display_data"
    }
   ],
   "source": [
    "# age\n",
    "aux001 = df4[df4['response'] == 0]\n",
    "aux000 = df4[df4['response'] == 1]\n",
    "sns.histplot(aux001['age'])"
   ]
  },
  {
   "cell_type": "code",
   "execution_count": 20,
   "id": "973e6ca1",
   "metadata": {
    "ExecuteTime": {
     "end_time": "2022-07-19T16:41:49.982946Z",
     "start_time": "2022-07-19T16:41:49.625717Z"
    },
    "cell_style": "split",
    "hide_input": false,
    "scrolled": true
   },
   "outputs": [
    {
     "data": {
      "text/plain": [
       "<AxesSubplot:xlabel='age', ylabel='Count'>"
      ]
     },
     "execution_count": 20,
     "metadata": {},
     "output_type": "execute_result"
    },
    {
     "data": {
      "image/png": "[encoded data removed]",
      "text/plain": [
       "<Figure size 432x288 with 1 Axes>"
      ]
     },
     "metadata": {
      "needs_background": "light"
     },
     "output_type": "display_data"
    }
   ],
   "source": [
    "sns.histplot(aux001['age'])"
   ]
  },
  {
   "cell_type": "code",
   "execution_count": 21,
   "id": "1e9df606",
   "metadata": {
    "ExecuteTime": {
     "end_time": "2022-07-19T16:41:50.108459Z",
     "start_time": "2022-07-19T16:41:49.984541Z"
    },
    "scrolled": true
   },
   "outputs": [
    {
     "data": {
      "image/png": "[encoded data removed]",
      "text/plain": [
       "<Figure size 432x288 with 1 Axes>"
      ]
     },
     "metadata": {
      "needs_background": "light"
     },
     "output_type": "display_data"
    }
   ],
   "source": [
    "# driving_license\n",
    "aux000 = df4[['response', 'driving_license']].groupby('response').sum().reset_index()\n",
    "sns.barplot(y='driving_license', x='response', data=aux000);"
   ]
  },
  {
   "cell_type": "code",
   "execution_count": 22,
   "id": "8aa24175",
   "metadata": {
    "ExecuteTime": {
     "end_time": "2022-07-19T16:41:50.139677Z",
     "start_time": "2022-07-19T16:41:50.109433Z"
    },
    "scrolled": true
   },
   "outputs": [
    {
     "data": {
      "text/html": [
       "<div>\n",
       "<style scoped>\n",
       "    .dataframe tbody tr th:only-of-type {\n",
       "        vertical-align: middle;\n",
       "    }\n",
       "\n",
       "    .dataframe tbody tr th {\n",
       "        vertical-align: top;\n",
       "    }\n",
       "\n",
       "    .dataframe thead th {\n",
       "        text-align: right;\n",
       "    }\n",
       "</style>\n",
       "<table border=\"1\" class=\"dataframe\">\n",
       "  <thead>\n",
       "    <tr style=\"text-align: right;\">\n",
       "      <th></th>\n",
       "      <th>response</th>\n",
       "      <th>driving_license</th>\n",
       "      <th>driving_license_percentage</th>\n",
       "    </tr>\n",
       "  </thead>\n",
       "  <tbody>\n",
       "    <tr>\n",
       "      <th>0</th>\n",
       "      <td>0</td>\n",
       "      <td>333628</td>\n",
       "      <td>0.877283</td>\n",
       "    </tr>\n",
       "    <tr>\n",
       "      <th>1</th>\n",
       "      <td>1</td>\n",
       "      <td>46669</td>\n",
       "      <td>0.122717</td>\n",
       "    </tr>\n",
       "  </tbody>\n",
       "</table>\n",
       "</div>"
      ],
      "text/plain": [
       "   response  driving_license  driving_license_percentage\n",
       "0         0           333628                    0.877283\n",
       "1         1            46669                    0.122717"
      ]
     },
     "execution_count": 22,
     "metadata": {},
     "output_type": "execute_result"
    }
   ],
   "source": [
    "aux000 = df4[['response', 'driving_license']].groupby('response').sum().reset_index()\n",
    "aux000['driving_license_percentage'] = aux000['driving_license'] / aux000['driving_license'].sum()\n",
    "aux000"
   ]
  },
  {
   "cell_type": "code",
   "execution_count": 23,
   "id": "88fcdede",
   "metadata": {
    "ExecuteTime": {
     "end_time": "2022-07-19T16:41:50.328695Z",
     "start_time": "2022-07-19T16:41:50.140694Z"
    }
   },
   "outputs": [
    {
     "data": {
      "image/png": "[encoded data removed]",
      "text/plain": [
       "<Figure size 432x288 with 1 Axes>"
      ]
     },
     "metadata": {
      "needs_background": "light"
     },
     "output_type": "display_data"
    }
   ],
   "source": [
    "# region_code\n",
    "aux0 = df4[['id', 'region_code', 'response']].groupby(['response', 'region_code']).count().reset_index()\n",
    "sns.scatterplot(hue='response', y='id', x='region_code', data=aux0);"
   ]
  },
  {
   "cell_type": "code",
   "execution_count": 24,
   "id": "300d8ecf",
   "metadata": {
    "ExecuteTime": {
     "end_time": "2022-07-19T16:41:50.390320Z",
     "start_time": "2022-07-19T16:41:50.329436Z"
    }
   },
   "outputs": [
    {
     "data": {
      "text/html": [
       "<div>\n",
       "<style scoped>\n",
       "    .dataframe tbody tr th:only-of-type {\n",
       "        vertical-align: middle;\n",
       "    }\n",
       "\n",
       "    .dataframe tbody tr th {\n",
       "        vertical-align: top;\n",
       "    }\n",
       "\n",
       "    .dataframe thead th {\n",
       "        text-align: right;\n",
       "    }\n",
       "</style>\n",
       "<table border=\"1\" class=\"dataframe\">\n",
       "  <thead>\n",
       "    <tr style=\"text-align: right;\">\n",
       "      <th>response</th>\n",
       "      <th>0</th>\n",
       "      <th>1</th>\n",
       "    </tr>\n",
       "    <tr>\n",
       "      <th>previously_insured</th>\n",
       "      <th></th>\n",
       "      <th></th>\n",
       "    </tr>\n",
       "  </thead>\n",
       "  <tbody>\n",
       "    <tr>\n",
       "      <th>0</th>\n",
       "      <td>0.774546</td>\n",
       "      <td>0.225454</td>\n",
       "    </tr>\n",
       "    <tr>\n",
       "      <th>1</th>\n",
       "      <td>0.999095</td>\n",
       "      <td>0.000905</td>\n",
       "    </tr>\n",
       "  </tbody>\n",
       "</table>\n",
       "</div>"
      ],
      "text/plain": [
       "response                   0         1\n",
       "previously_insured                    \n",
       "0                   0.774546  0.225454\n",
       "1                   0.999095  0.000905"
      ]
     },
     "execution_count": 24,
     "metadata": {},
     "output_type": "execute_result"
    }
   ],
   "source": [
    "# previously_insured\n",
    "pd.crosstab(df4['previously_insured'], df4['response']).apply(lambda x: x / x.sum(), axis=1 )"
   ]
  },
  {
   "cell_type": "code",
   "execution_count": 25,
   "id": "732c13a2",
   "metadata": {
    "ExecuteTime": {
     "end_time": "2022-07-19T16:41:50.452384Z",
     "start_time": "2022-07-19T16:41:50.391403Z"
    }
   },
   "outputs": [
    {
     "data": {
      "text/html": [
       "<div>\n",
       "<style scoped>\n",
       "    .dataframe tbody tr th:only-of-type {\n",
       "        vertical-align: middle;\n",
       "    }\n",
       "\n",
       "    .dataframe tbody tr th {\n",
       "        vertical-align: top;\n",
       "    }\n",
       "\n",
       "    .dataframe thead th {\n",
       "        text-align: right;\n",
       "    }\n",
       "</style>\n",
       "<table border=\"1\" class=\"dataframe\">\n",
       "  <thead>\n",
       "    <tr style=\"text-align: right;\">\n",
       "      <th></th>\n",
       "      <th>response</th>\n",
       "      <th>vehicle_age</th>\n",
       "      <th>0</th>\n",
       "    </tr>\n",
       "  </thead>\n",
       "  <tbody>\n",
       "    <tr>\n",
       "      <th>0</th>\n",
       "      <td>0</td>\n",
       "      <td>between_1_2_year</td>\n",
       "      <td>0.434285</td>\n",
       "    </tr>\n",
       "    <tr>\n",
       "      <th>1</th>\n",
       "      <td>0</td>\n",
       "      <td>below_1_year</td>\n",
       "      <td>0.413488</td>\n",
       "    </tr>\n",
       "    <tr>\n",
       "      <th>2</th>\n",
       "      <td>1</td>\n",
       "      <td>between_1_2_year</td>\n",
       "      <td>0.091328</td>\n",
       "    </tr>\n",
       "    <tr>\n",
       "      <th>3</th>\n",
       "      <td>0</td>\n",
       "      <td>over_2_years</td>\n",
       "      <td>0.029663</td>\n",
       "    </tr>\n",
       "    <tr>\n",
       "      <th>4</th>\n",
       "      <td>1</td>\n",
       "      <td>below_1_year</td>\n",
       "      <td>0.018897</td>\n",
       "    </tr>\n",
       "    <tr>\n",
       "      <th>5</th>\n",
       "      <td>1</td>\n",
       "      <td>over_2_years</td>\n",
       "      <td>0.012338</td>\n",
       "    </tr>\n",
       "  </tbody>\n",
       "</table>\n",
       "</div>"
      ],
      "text/plain": [
       "   response       vehicle_age         0\n",
       "0         0  between_1_2_year  0.434285\n",
       "1         0      below_1_year  0.413488\n",
       "2         1  between_1_2_year  0.091328\n",
       "3         0      over_2_years  0.029663\n",
       "4         1      below_1_year  0.018897\n",
       "5         1      over_2_years  0.012338"
      ]
     },
     "execution_count": 25,
     "metadata": {},
     "output_type": "execute_result"
    }
   ],
   "source": [
    "# vehicle_age\n",
    "df4[['response', 'vehicle_age']].value_counts(normalize=True).reset_index()"
   ]
  },
  {
   "cell_type": "code",
   "execution_count": 26,
   "id": "d8f6e94f",
   "metadata": {
    "ExecuteTime": {
     "end_time": "2022-07-19T16:41:50.467554Z",
     "start_time": "2022-07-19T16:41:50.453515Z"
    }
   },
   "outputs": [
    {
     "data": {
      "text/plain": [
       "1    192413\n",
       "0    188696\n",
       "Name: vehicle_damage, dtype: int64"
      ]
     },
     "execution_count": 26,
     "metadata": {},
     "output_type": "execute_result"
    }
   ],
   "source": [
    "# vehicle_damage\n",
    "df4['vehicle_damage'].value_counts()"
   ]
  },
  {
   "cell_type": "code",
   "execution_count": 27,
   "id": "6b3da2eb",
   "metadata": {
    "ExecuteTime": {
     "end_time": "2022-07-19T16:41:50.593605Z",
     "start_time": "2022-07-19T16:41:50.469408Z"
    },
    "scrolled": true
   },
   "outputs": [
    {
     "name": "stderr",
     "output_type": "stream",
     "text": [
      "C:\\Users\\vinic\\anaconda3\\lib\\site-packages\\seaborn\\_decorators.py:36: FutureWarning: Pass the following variable as a keyword arg: x. From version 0.12, the only valid positional argument will be `data`, and passing other arguments without an explicit keyword will result in an error or misinterpretation.\n",
      "  warnings.warn(\n"
     ]
    },
    {
     "data": {
      "image/png": "[encoded data removed]",
      "text/plain": [
       "<Figure size 432x288 with 1 Axes>"
      ]
     },
     "metadata": {
      "needs_background": "light"
     },
     "output_type": "display_data"
    }
   ],
   "source": [
    "# annual_premium\n",
    "aux001 = df4[df4['response'] == 0]\n",
    "aux000 = df4[df4['response'] == 1]\n",
    "\n",
    "sns.boxplot(aux000['annual_premium']);"
   ]
  },
  {
   "cell_type": "code",
   "execution_count": 28,
   "id": "0530c132",
   "metadata": {
    "ExecuteTime": {
     "end_time": "2022-07-19T16:41:50.844339Z",
     "start_time": "2022-07-19T16:41:50.595458Z"
    },
    "cell_style": "split",
    "scrolled": true
   },
   "outputs": [
    {
     "data": {
      "image/png": "[encoded data removed]",
      "text/plain": [
       "<Figure size 432x288 with 1 Axes>"
      ]
     },
     "metadata": {
      "needs_background": "light"
     },
     "output_type": "display_data"
    }
   ],
   "source": [
    "aux001 = df4[(df4['annual_premium'] > 10000) & (df4['annual_premium'] < 80000) & (df4['response'] == 1)]\n",
    "sns.histplot(aux001['annual_premium']);"
   ]
  },
  {
   "cell_type": "code",
   "execution_count": 29,
   "id": "824cd48b",
   "metadata": {
    "ExecuteTime": {
     "end_time": "2022-07-19T16:41:51.317358Z",
     "start_time": "2022-07-19T16:41:50.845440Z"
    },
    "cell_style": "split",
    "hide_input": false
   },
   "outputs": [
    {
     "data": {
      "image/png": "[encoded data removed]",
      "text/plain": [
       "<Figure size 432x288 with 1 Axes>"
      ]
     },
     "metadata": {
      "needs_background": "light"
     },
     "output_type": "display_data"
    }
   ],
   "source": [
    "aux000 = df4[(df4['annual_premium'] > 10000) & (df4['annual_premium'] < 80000) & (df4['response'] == 0)]\n",
    "sns.histplot(aux000['annual_premium']);"
   ]
  },
  {
   "cell_type": "code",
   "execution_count": 30,
   "id": "512cee2c",
   "metadata": {
    "ExecuteTime": {
     "end_time": "2022-07-19T16:41:52.314646Z",
     "start_time": "2022-07-19T16:41:51.318484Z"
    }
   },
   "outputs": [
    {
     "data": {
      "image/png": "[encoded data removed]",
      "text/plain": [
       "<Figure size 2160x1080 with 1 Axes>"
      ]
     },
     "metadata": {
      "needs_background": "light"
     },
     "output_type": "display_data"
    }
   ],
   "source": [
    "# policy_sales_channel\n",
    "import matplotlib.pyplot as plt\n",
    "\n",
    "plt.subplots(figsize=(30,15))\n",
    "aux0 =df4[['response', 'policy_sales_channel']].groupby('policy_sales_channel').sum().reset_index()\n",
    "sns.barplot(y='policy_sales_channel', x='response', data=aux0);"
   ]
  },
  {
   "cell_type": "code",
   "execution_count": 31,
   "id": "7d828cac",
   "metadata": {
    "ExecuteTime": {
     "end_time": "2022-07-19T16:41:52.657311Z",
     "start_time": "2022-07-19T16:41:52.315845Z"
    },
    "cell_style": "split"
   },
   "outputs": [
    {
     "data": {
      "text/plain": [
       "<AxesSubplot:xlabel='vintage', ylabel='Count'>"
      ]
     },
     "execution_count": 31,
     "metadata": {},
     "output_type": "execute_result"
    },
    {
     "data": {
      "image/png": "[encoded data removed]",
      "text/plain": [
       "<Figure size 432x288 with 1 Axes>"
      ]
     },
     "metadata": {
      "needs_background": "light"
     },
     "output_type": "display_data"
    }
   ],
   "source": [
    "# vintage\n",
    "aux0 = df4.loc[df4['response'] == 0, 'vintage']\n",
    "sns.histplot(aux0)"
   ]
  },
  {
   "cell_type": "code",
   "execution_count": 32,
   "id": "f260e7a2",
   "metadata": {
    "ExecuteTime": {
     "end_time": "2022-07-19T16:41:52.829626Z",
     "start_time": "2022-07-19T16:41:52.658472Z"
    },
    "cell_style": "split"
   },
   "outputs": [
    {
     "data": {
      "text/plain": [
       "<AxesSubplot:xlabel='vintage', ylabel='Count'>"
      ]
     },
     "execution_count": 32,
     "metadata": {},
     "output_type": "execute_result"
    },
    {
     "data": {
      "image/png": "[encoded data removed]",
      "text/plain": [
       "<Figure size 432x288 with 1 Axes>"
      ]
     },
     "metadata": {
      "needs_background": "light"
     },
     "output_type": "display_data"
    }
   ],
   "source": [
    "# vintage\n",
    "aux0 = df4.loc[df4['response'] == 1, 'vintage']\n",
    "sns.histplot(aux0)"
   ]
  },
  {
   "cell_type": "code",
   "execution_count": 33,
   "id": "3ed4e3e5",
   "metadata": {
    "ExecuteTime": {
     "end_time": "2022-07-19T16:41:52.939576Z",
     "start_time": "2022-07-19T16:41:52.833614Z"
    },
    "scrolled": true
   },
   "outputs": [
    {
     "data": {
      "text/plain": [
       "<AxesSubplot:xlabel='response', ylabel='id'>"
      ]
     },
     "execution_count": 33,
     "metadata": {},
     "output_type": "execute_result"
    },
    {
     "data": {
      "image/png": "[encoded data removed]",
      "text/plain": [
       "<Figure size 432x288 with 1 Axes>"
      ]
     },
     "metadata": {
      "needs_background": "light"
     },
     "output_type": "display_data"
    }
   ],
   "source": [
    "# response\n",
    "aux0 = df4[['response', 'id']].groupby('response').count().reset_index()\n",
    "sns.barplot(x='response', y='id', data=aux0)"
   ]
  },
  {
   "cell_type": "markdown",
   "id": "18befe30",
   "metadata": {},
   "source": [
    "## 4.2 Analise Bivariada"
   ]
  },
  {
   "cell_type": "markdown",
   "id": "2160e8d2",
   "metadata": {
    "ExecuteTime": {
     "end_time": "2022-07-23T14:02:04.762353Z",
     "start_time": "2022-07-23T14:02:04.748483Z"
    }
   },
   "source": [
    "**H1.** Interesse em contratar seguro aumenta em regiões com mais acidentes registrados.\n",
    "\n",
    "**H2.** Interesse em contratar seguro aumenta em regiões quando o carro está em condição nova.\n",
    "\n",
    "**H3.** Interesse em contratar seguro aumenta em regiões com mais acidentes registrados.  \n",
    "\n",
    "**H4.** Interesse em contratar seguro aumenta em pessoas com idade maior a 40 anos.\n",
    "\n",
    "**H5.** Acidentes acontecem com pessoas que não possuem liçenca para dirigir. \n",
    "\n",
    "**H6.** Acidentes acontecem mais com pessoas que possuem seguro.\n",
    "\n",
    "**H7.** O pagamento anual aumenta quando os veículos já sofreram acidente anteriormente."
   ]
  },
  {
   "cell_type": "markdown",
   "id": "2e72c4db",
   "metadata": {},
   "source": [
    "## **H1.** Interesse em contratar seguro aumenta quando a pessoa possui veiculo que já sofreu dano anteriormente.\n",
    "**VERDADEIRA** Interesse em contratar seguro aumenta quando a pessoa que possui carro sofreu dano anteriormente."
   ]
  },
  {
   "cell_type": "code",
   "execution_count": 44,
   "id": "cb419e08",
   "metadata": {
    "ExecuteTime": {
     "end_time": "2022-07-25T11:22:53.565861Z",
     "start_time": "2022-07-25T11:22:53.401819Z"
    }
   },
   "outputs": [
    {
     "data": {
      "text/plain": [
       "<AxesSubplot:xlabel='vehicle_damage', ylabel='id'>"
      ]
     },
     "execution_count": 44,
     "metadata": {},
     "output_type": "execute_result"
    },
    {
     "data": {
      "image/png": "[encoded data removed]",
      "text/plain": [
       "<Figure size 1584x792 with 1 Axes>"
      ]
     },
     "metadata": {},
     "output_type": "display_data"
    }
   ],
   "source": [
    "aux = df4[['response', 'vehicle_damage', 'id']].groupby(['response', 'vehicle_damage']).count().reset_index()\n",
    "sns.barplot(hue='response', y='id', x='vehicle_damage', data=aux)"
   ]
  },
  {
   "cell_type": "markdown",
   "id": "0f13a98e",
   "metadata": {},
   "source": [
    "## H2. Interesse em contratar seguro aumenta enquanto a idade de uso do veículo aumenta.\n",
    "**VERDADEIRA** Interesse em contratar seguro aumenta enquanto a idade de uso do veículo está entre 1 e 2 anos de uso."
   ]
  },
  {
   "cell_type": "code",
   "execution_count": 12,
   "id": "28e8f1c1",
   "metadata": {
    "ExecuteTime": {
     "end_time": "2022-07-27T00:03:52.221702Z",
     "start_time": "2022-07-27T00:03:51.869682Z"
    },
    "scrolled": true
   },
   "outputs": [
    {
     "data": {
      "text/plain": [
       "<AxesSubplot:xlabel='vehicle_age', ylabel='id'>"
      ]
     },
     "execution_count": 12,
     "metadata": {},
     "output_type": "execute_result"
    },
    {
     "data": {
      "image/png": "[encoded data removed]",
      "text/plain": [
       "<Figure size 1584x792 with 1 Axes>"
      ]
     },
     "metadata": {},
     "output_type": "display_data"
    }
   ],
   "source": [
    "aux = df4[['response', 'id', 'vehicle_age']].groupby(['response', 'vehicle_age']).count().reset_index()\n",
    "\n",
    "sns.barplot(x='vehicle_age', y='id', hue='response', data=aux)"
   ]
  },
  {
   "cell_type": "markdown",
   "id": "3bff2c40",
   "metadata": {},
   "source": [
    "## **H4.** Interesse em contratar seguro aumenta quando a idade aumenta.\n",
    "**VERDADEIRA** Interesse em contratar seguro aumenta conforme a idade da pessoa aumenta. PLUS => O interesse diminui depois que as pessoas atingem a casa dos 45 anos."
   ]
  },
  {
   "cell_type": "code",
   "execution_count": 41,
   "id": "0b6d60ad",
   "metadata": {
    "ExecuteTime": {
     "end_time": "2022-07-27T00:14:46.616501Z",
     "start_time": "2022-07-27T00:14:45.329052Z"
    }
   },
   "outputs": [
    {
     "data": {
      "text/plain": [
       "<AxesSubplot:xlabel='age', ylabel='response'>"
      ]
     },
     "execution_count": 41,
     "metadata": {},
     "output_type": "execute_result"
    },
    {
     "data": {
      "image/png": "[encoded data removed]",
      "text/plain": [
       "<Figure size 1584x792 with 1 Axes>"
      ]
     },
     "metadata": {},
     "output_type": "display_data"
    }
   ],
   "source": [
    "aux = df4[['age', 'response']].groupby('age').sum().reset_index()\n",
    "sns.barplot(x='age', y='response', data=aux)"
   ]
  },
  {
   "cell_type": "markdown",
   "id": "bf90c2ca",
   "metadata": {},
   "source": [
    "## **H5.** Danos em veiculos acontecem mais quando pessoas que não possuem liçenca para dirigir.\n",
    "**VERDADEIRA** Danos acontecem mais quando pessoas pssuem licença para dirigir."
   ]
  },
  {
   "cell_type": "code",
   "execution_count": 45,
   "id": "9d730bf9",
   "metadata": {
    "ExecuteTime": {
     "end_time": "2022-07-27T00:19:51.826223Z",
     "start_time": "2022-07-27T00:19:51.593088Z"
    }
   },
   "outputs": [
    {
     "data": {
      "text/plain": [
       "<AxesSubplot:xlabel='driving_license', ylabel='id'>"
      ]
     },
     "execution_count": 45,
     "metadata": {},
     "output_type": "execute_result"
    },
    {
     "data": {
      "image/png": "[encoded data removed]",
      "text/plain": [
       "<Figure size 1584x792 with 1 Axes>"
      ]
     },
     "metadata": {},
     "output_type": "display_data"
    }
   ],
   "source": [
    "aux = df4[['vehicle_damage', 'id', 'driving_license']].groupby(['vehicle_damage', 'driving_license']).count().reset_index()\n",
    "sns.barplot(x='driving_license', hue='vehicle_damage', y='id', data=aux)"
   ]
  },
  {
   "cell_type": "markdown",
   "id": "2fab1dfd",
   "metadata": {},
   "source": [
    "## **H6.** Acidentes acontecem mais com pessoas que possuem seguro.\n",
    "**FALSA** Danos acontecem mais quando a pessoa não possui seguro."
   ]
  },
  {
   "cell_type": "code",
   "execution_count": 62,
   "id": "5cd738ba",
   "metadata": {
    "ExecuteTime": {
     "end_time": "2022-07-27T00:27:09.546275Z",
     "start_time": "2022-07-27T00:27:09.522232Z"
    }
   },
   "outputs": [
    {
     "data": {
      "text/html": [
       "<div>\n",
       "<style scoped>\n",
       "    .dataframe tbody tr th:only-of-type {\n",
       "        vertical-align: middle;\n",
       "    }\n",
       "\n",
       "    .dataframe tbody tr th {\n",
       "        vertical-align: top;\n",
       "    }\n",
       "\n",
       "    .dataframe thead th {\n",
       "        text-align: right;\n",
       "    }\n",
       "</style>\n",
       "<table border=\"1\" class=\"dataframe\">\n",
       "  <thead>\n",
       "    <tr style=\"text-align: right;\">\n",
       "      <th></th>\n",
       "      <th>vehicle_damage</th>\n",
       "      <th>previously_insured</th>\n",
       "      <th>id</th>\n",
       "    </tr>\n",
       "  </thead>\n",
       "  <tbody>\n",
       "    <tr>\n",
       "      <th>0</th>\n",
       "      <td>0</td>\n",
       "      <td>0</td>\n",
       "      <td>4562382043</td>\n",
       "    </tr>\n",
       "    <tr>\n",
       "      <th>1</th>\n",
       "      <td>0</td>\n",
       "      <td>1</td>\n",
       "      <td>31426185864</td>\n",
       "    </tr>\n",
       "    <tr>\n",
       "      <th>2</th>\n",
       "      <td>1</td>\n",
       "      <td>0</td>\n",
       "      <td>34732274094</td>\n",
       "    </tr>\n",
       "    <tr>\n",
       "      <th>3</th>\n",
       "      <td>1</td>\n",
       "      <td>1</td>\n",
       "      <td>1901383494</td>\n",
       "    </tr>\n",
       "  </tbody>\n",
       "</table>\n",
       "</div>"
      ],
      "text/plain": [
       "   vehicle_damage  previously_insured           id\n",
       "0               0                   0   4562382043\n",
       "1               0                   1  31426185864\n",
       "2               1                   0  34732274094\n",
       "3               1                   1   1901383494"
      ]
     },
     "execution_count": 62,
     "metadata": {},
     "output_type": "execute_result"
    }
   ],
   "source": [
    "aux"
   ]
  },
  {
   "cell_type": "markdown",
   "id": "62186899",
   "metadata": {},
   "source": [
    "## **H7.** O pagamento anual aumenta quando os veículos já sofreram acidente anteriormente.\n",
    "**VERDADEIRA** A receita por cliente aumenta quando veículo já sofreu dano anteriormente."
   ]
  },
  {
   "cell_type": "code",
   "execution_count": 72,
   "id": "9eda19a0",
   "metadata": {
    "ExecuteTime": {
     "end_time": "2022-07-27T00:33:09.471578Z",
     "start_time": "2022-07-27T00:33:09.233363Z"
    }
   },
   "outputs": [
    {
     "data": {
      "text/plain": [
       "<AxesSubplot:xlabel='vehicle_damage', ylabel='annual_premium'>"
      ]
     },
     "execution_count": 72,
     "metadata": {},
     "output_type": "execute_result"
    },
    {
     "data": {
      "image/png": "[encoded data removed]",
      "text/plain": [
       "<Figure size 1584x792 with 1 Axes>"
      ]
     },
     "metadata": {},
     "output_type": "display_data"
    }
   ],
   "source": [
    "aux = df4[['annual_premium', 'vehicle_damage']].groupby('vehicle_damage').sum().reset_index()\n",
    "\n",
    "plt.subplot(1, 2, 1)\n",
    "sns.lineplot(x='vehicle_damage', y='annual_premium', data=aux)"
   ]
  },
  {
   "cell_type": "code",
   "execution_count": null,
   "id": "3d386ab0",
   "metadata": {},
   "outputs": [],
   "source": []
  },
  {
   "cell_type": "code",
   "execution_count": null,
   "id": "6e0fab8d",
   "metadata": {},
   "outputs": [],
   "source": []
  },
  {
   "cell_type": "markdown",
   "id": "c26737ca",
   "metadata": {},
   "source": [
    "## 4.3 Analise Multivariada"
   ]
  },
  {
   "cell_type": "markdown",
   "id": "12f42663",
   "metadata": {},
   "source": [
    "# 5.0 PREPARAÇÃO DOS DADOS"
   ]
  },
  {
   "cell_type": "code",
   "execution_count": 19,
   "id": "55b2d6b2",
   "metadata": {
    "ExecuteTime": {
     "end_time": "2022-07-22T19:48:01.419162Z",
     "start_time": "2022-07-22T19:48:01.398190Z"
    }
   },
   "outputs": [],
   "source": [
    "df5 = df4.copy()"
   ]
  },
  {
   "cell_type": "code",
   "execution_count": 20,
   "id": "d09ea489",
   "metadata": {
    "ExecuteTime": {
     "end_time": "2022-07-22T19:48:02.387534Z",
     "start_time": "2022-07-22T19:48:02.293543Z"
    }
   },
   "outputs": [],
   "source": [
    "X = df4.drop('response', axis=1)\n",
    "y = df4['response']\n",
    "\n",
    "x_train, x_validation, y_train, y_validation = ms.train_test_split(X, y, test_size=0.20)\n",
    "\n",
    "df5 = pd.concat([x_train, y_train], axis=1)"
   ]
  },
  {
   "cell_type": "markdown",
   "id": "e69fabf6",
   "metadata": {},
   "source": [
    "## 5.1 Padronização"
   ]
  },
  {
   "cell_type": "code",
   "execution_count": 17,
   "id": "2e01b79f",
   "metadata": {
    "ExecuteTime": {
     "end_time": "2022-07-21T19:24:45.745766Z",
     "start_time": "2022-07-21T19:24:45.708021Z"
    }
   },
   "outputs": [],
   "source": [
    "ss = pp.StandardScaler()\n",
    "\n",
    "df5['annual_premium'] =  ss.fit_transform( df5[['annual_premium']].values )\n",
    "\n",
    "with open(\"C:/Users/vinic/Desktop/Pessoal/repos/ranking-potenciais-clientes/src/features/annual_premium.pkl\", 'wb') as f:\n",
    "    pickle.dump(ss, f)"
   ]
  },
  {
   "cell_type": "markdown",
   "id": "a2b3be07",
   "metadata": {},
   "source": [
    "## 5.2 Rescala "
   ]
  },
  {
   "cell_type": "code",
   "execution_count": 18,
   "id": "c6457686",
   "metadata": {
    "ExecuteTime": {
     "end_time": "2022-07-21T19:24:46.734852Z",
     "start_time": "2022-07-21T19:24:46.703852Z"
    }
   },
   "outputs": [],
   "source": [
    "mms_age = pp.MinMaxScaler()\n",
    "mms_vintage = pp.MinMaxScaler()\n",
    "\n",
    "# age\n",
    "df5[['age']] = mms_age.fit_transform ( df5[['age']].values )\n",
    "with open(\"C:/Users/vinic/Desktop/Pessoal/repos/ranking-potenciais-clientes/src/features/mms_age.pkl\", 'wb') as f:\n",
    "    pickle.dump(mms_age, f)\n",
    "\n",
    "# vintage\n",
    "df5[['vintage']] = mms_vintage.fit_transform ( df5[['vintage']].values )\n",
    "with open(\"C:/Users/vinic/Desktop/Pessoal/repos/ranking-potenciais-clientes/src/features/mss_vintage.pkl\", 'wb') as f:\n",
    "    pickle.dump(mms_vintage, f)"
   ]
  },
  {
   "cell_type": "markdown",
   "id": "de16ccbe",
   "metadata": {},
   "source": [
    "## 5.3 Encodificação "
   ]
  },
  {
   "cell_type": "code",
   "execution_count": 19,
   "id": "3760d700",
   "metadata": {
    "ExecuteTime": {
     "end_time": "2022-07-21T19:24:48.202189Z",
     "start_time": "2022-07-21T19:24:48.082916Z"
    }
   },
   "outputs": [],
   "source": [
    "# gender\n",
    "target_encoding_gender = df5.groupby('gender')['response'].mean()\n",
    "df5.loc[:, 'gender'] = df5['gender'].map(target_encoding_gender)\n",
    "with open(\"C:/Users/vinic/Desktop/Pessoal/repos/ranking-potenciais-clientes/src/features/target_encoding_gender.pkl\", 'wb') as f:\n",
    "    pickle.dump(target_encoding_gender, f)\n",
    "\n",
    "# region_code\n",
    "target_encoding_region_code = df5.groupby('region_code')['response'].mean()\n",
    "df5.loc[:, 'region_code'] = df5['region_code'].map(target_encoding_region_code)\n",
    "with open(\"C:/Users/vinic/Desktop/Pessoal/repos/ranking-potenciais-clientes/src/features/target_encoding_region_code.pkl\", 'wb') as f:\n",
    "    pickle.dump(target_encoding_region_code, f)\n",
    "\n",
    "# vehicle_age\n",
    "df5 = pd.get_dummies(df5, prefix='vehicle_age', columns=['vehicle_age'])\n",
    "\n",
    "# policy_sales_channel\n",
    "fe_policy_sales_channel = df5.groupby('policy_sales_channel').size() / len(df5)\n",
    "df5.loc[:, 'policy_sales_channel'] = df5['policy_sales_channel'].map(fe_policy_sales_channel)\n",
    "with open(\"C:/Users/vinic/Desktop/Pessoal/repos/ranking-potenciais-clientes/src/features/fe_policy_sales_channel.pkl\", 'wb') as f:\n",
    "    pickle.dump(fe_policy_sales_channel, f)"
   ]
  },
  {
   "cell_type": "markdown",
   "id": "3038905f",
   "metadata": {
    "ExecuteTime": {
     "end_time": "2022-07-14T08:49:06.180547Z",
     "start_time": "2022-07-14T08:49:06.180547Z"
    }
   },
   "source": [
    "## 5.4 Validação da Preparação"
   ]
  },
  {
   "cell_type": "code",
   "execution_count": 42,
   "id": "f1bf40e2",
   "metadata": {
    "ExecuteTime": {
     "end_time": "2022-07-19T18:46:46.224869Z",
     "start_time": "2022-07-19T18:46:46.170127Z"
    },
    "scrolled": true
   },
   "outputs": [],
   "source": [
    "#x_validation['annual_premium'] =  ss.fit_transform( x_validation[['annual_premium']].values )\n",
    "#\n",
    "#x_validation[['age']] = mms_age.fit_transform (x_validation[['age']].values )\n",
    "#\n",
    "#x_validation[['vintage']] = mms_vintage.fit_transform ( x_validation[['vintage']].values )\n",
    "#\n",
    "#x_validation.loc[:, 'gender'] = x_validation['gender'].map(target_encoding_gender)\n",
    "#\n",
    "#x_validation.loc[:, 'region_code'] = x_validation['region_code'].map(target_encoding_region_code)\n",
    "#\n",
    "#x_validation = pd.get_dummies(x_validation, prefix='vehicle_age', columns=['vehicle_age'])\n",
    "#\n",
    "#x_validation.loc[:, 'policy_sales_channel'] = x_validation['policy_sales_channel'].map(fe_policy_sales_channel)\n",
    "#\n",
    "## fill na\n",
    "#x_validation.fillna(0, inplace=True)"
   ]
  },
  {
   "cell_type": "markdown",
   "id": "cc867932",
   "metadata": {},
   "source": [
    "# 6.0 SELEÇÃO DAS FEATURES"
   ]
  },
  {
   "cell_type": "markdown",
   "id": "d435851d",
   "metadata": {},
   "source": [
    "## 6.1 Importância das Features"
   ]
  },
  {
   "cell_type": "code",
   "execution_count": 40,
   "id": "bad58e63",
   "metadata": {
    "ExecuteTime": {
     "end_time": "2022-07-19T16:42:15.995021Z",
     "start_time": "2022-07-19T16:41:53.358421Z"
    }
   },
   "outputs": [
    {
     "data": {
      "text/html": [
       "<style>#sk-container-id-1 {color: black;background-color: white;}#sk-container-id-1 pre{padding: 0;}#sk-container-id-1 div.sk-toggleable {background-color: white;}#sk-container-id-1 label.sk-toggleable__label {cursor: pointer;display: block;width: 100%;margin-bottom: 0;padding: 0.3em;box-sizing: border-box;text-align: center;}#sk-container-id-1 label.sk-toggleable__label-arrow:before {content: \"▸\";float: left;margin-right: 0.25em;color: #696969;}#sk-container-id-1 label.sk-toggleable__label-arrow:hover:before {color: black;}#sk-container-id-1 div.sk-estimator:hover label.sk-toggleable__label-arrow:before {color: black;}#sk-container-id-1 div.sk-toggleable__content {max-height: 0;max-width: 0;overflow: hidden;text-align: left;background-color: #f0f8ff;}#sk-container-id-1 div.sk-toggleable__content pre {margin: 0.2em;color: black;border-radius: 0.25em;background-color: #f0f8ff;}#sk-container-id-1 input.sk-toggleable__control:checked~div.sk-toggleable__content {max-height: 200px;max-width: 100%;overflow: auto;}#sk-container-id-1 input.sk-toggleable__control:checked~label.sk-toggleable__label-arrow:before {content: \"▾\";}#sk-container-id-1 div.sk-estimator input.sk-toggleable__control:checked~label.sk-toggleable__label {background-color: #d4ebff;}#sk-container-id-1 div.sk-label input.sk-toggleable__control:checked~label.sk-toggleable__label {background-color: #d4ebff;}#sk-container-id-1 input.sk-hidden--visually {border: 0;clip: rect(1px 1px 1px 1px);clip: rect(1px, 1px, 1px, 1px);height: 1px;margin: -1px;overflow: hidden;padding: 0;position: absolute;width: 1px;}#sk-container-id-1 div.sk-estimator {font-family: monospace;background-color: #f0f8ff;border: 1px dotted black;border-radius: 0.25em;box-sizing: border-box;margin-bottom: 0.5em;}#sk-container-id-1 div.sk-estimator:hover {background-color: #d4ebff;}#sk-container-id-1 div.sk-parallel-item::after {content: \"\";width: 100%;border-bottom: 1px solid gray;flex-grow: 1;}#sk-container-id-1 div.sk-label:hover label.sk-toggleable__label {background-color: #d4ebff;}#sk-container-id-1 div.sk-serial::before {content: \"\";position: absolute;border-left: 1px solid gray;box-sizing: border-box;top: 0;bottom: 0;left: 50%;z-index: 0;}#sk-container-id-1 div.sk-serial {display: flex;flex-direction: column;align-items: center;background-color: white;padding-right: 0.2em;padding-left: 0.2em;position: relative;}#sk-container-id-1 div.sk-item {position: relative;z-index: 1;}#sk-container-id-1 div.sk-parallel {display: flex;align-items: stretch;justify-content: center;background-color: white;position: relative;}#sk-container-id-1 div.sk-item::before, #sk-container-id-1 div.sk-parallel-item::before {content: \"\";position: absolute;border-left: 1px solid gray;box-sizing: border-box;top: 0;bottom: 0;left: 50%;z-index: -1;}#sk-container-id-1 div.sk-parallel-item {display: flex;flex-direction: column;z-index: 1;position: relative;background-color: white;}#sk-container-id-1 div.sk-parallel-item:first-child::after {align-self: flex-end;width: 50%;}#sk-container-id-1 div.sk-parallel-item:last-child::after {align-self: flex-start;width: 50%;}#sk-container-id-1 div.sk-parallel-item:only-child::after {width: 0;}#sk-container-id-1 div.sk-dashed-wrapped {border: 1px dashed gray;margin: 0 0.4em 0.5em 0.4em;box-sizing: border-box;padding-bottom: 0.4em;background-color: white;}#sk-container-id-1 div.sk-label label {font-family: monospace;font-weight: bold;display: inline-block;line-height: 1.2em;}#sk-container-id-1 div.sk-label-container {text-align: center;}#sk-container-id-1 div.sk-container {/* jupyter's `normalize.less` sets `[hidden] { display: none; }` but bootstrap.min.css set `[hidden] { display: none !important; }` so we also need the `!important` here to be able to override the default hidden behavior on the sphinx rendered scikit-learn.org. See: https://github.com/scikit-learn/scikit-learn/issues/21755 */display: inline-block !important;position: relative;}#sk-container-id-1 div.sk-text-repr-fallback {display: none;}</style><div id=\"sk-container-id-1\" class=\"sk-top-container\"><div class=\"sk-text-repr-fallback\"><pre>ExtraTreesClassifier(n_estimators=250, n_jobs=-1, random_state=0)</pre><b>In a Jupyter environment, please rerun this cell to show the HTML representation or trust the notebook. <br />On GitHub, the HTML representation is unable to render, please try loading this page with nbviewer.org.</b></div><div class=\"sk-container\" hidden><div class=\"sk-item\"><div class=\"sk-estimator sk-toggleable\"><input class=\"sk-toggleable__control sk-hidden--visually\" id=\"sk-estimator-id-1\" type=\"checkbox\" checked><label for=\"sk-estimator-id-1\" class=\"sk-toggleable__label sk-toggleable__label-arrow\">ExtraTreesClassifier</label><div class=\"sk-toggleable__content\"><pre>ExtraTreesClassifier(n_estimators=250, n_jobs=-1, random_state=0)</pre></div></div></div></div></div>"
      ],
      "text/plain": [
       "ExtraTreesClassifier(n_estimators=250, n_jobs=-1, random_state=0)"
      ]
     },
     "execution_count": 40,
     "metadata": {},
     "output_type": "execute_result"
    }
   ],
   "source": [
    "# definindo modelo\n",
    "#forest = en.ExtraTreesClassifier(n_estimators=250, random_state=0, n_jobs=-1)\n",
    "#\n",
    "## preparação dos dados\n",
    "#x_train_n = df5.drop(['id', 'response'], axis=1)\n",
    "#y_train_n = y_train.values\n",
    "#forest.fit(x_train_n, y_train_n)"
   ]
  },
  {
   "cell_type": "code",
   "execution_count": 41,
   "id": "7d3866c6",
   "metadata": {
    "ExecuteTime": {
     "end_time": "2022-07-19T16:42:17.045177Z",
     "start_time": "2022-07-19T16:42:15.998021Z"
    }
   },
   "outputs": [
    {
     "name": "stdout",
     "output_type": "stream",
     "text": [
      "Feature ranking:\n",
      "                        feature  importance\n",
      "0                       vintage    0.271480\n",
      "0                annual_premium    0.244448\n",
      "0                           age    0.165426\n",
      "0                   region_code    0.105023\n",
      "0                vehicle_damage    0.069581\n",
      "0          policy_sales_channel    0.060956\n",
      "0            previously_insured    0.055036\n",
      "0      vehicle_age_below_1_year    0.013788\n",
      "0  vehicle_age_between_1_2_year    0.006523\n",
      "0                        gender    0.004837\n",
      "0      vehicle_age_over_2_years    0.002374\n",
      "0               driving_license    0.000528\n"
     ]
    },
    {
     "data": {
      "image/png": "[encoded data removed]",
      "text/plain": [
       "<Figure size 432x288 with 1 Axes>"
      ]
     },
     "metadata": {
      "needs_background": "light"
     },
     "output_type": "display_data"
    }
   ],
   "source": [
    "#importances = forest.feature_importances_\n",
    "#std = np.std([tree.feature_importances_ for tree in forest.estimators_], axis=0)\n",
    "#indices = np.argsort(importances)[::-1]\n",
    "#\n",
    "## printa o ranking das features\n",
    "#print(\"Feature ranking:\")\n",
    "#df = pd.DataFrame()\n",
    "#for i, j in zip(x_train_n, forest.feature_importances_):\n",
    "#    aux = pd.DataFrame({'feature': i, 'importance': j}, index=[0])\n",
    "#    df = pd.concat([df, aux], axis=0)\n",
    "#print(df.sort_values('importance', ascending=False))\n",
    "#\n",
    "## Plot das importâncias em destaque da floresta com base em impureza\n",
    "#\n",
    "#plt.figure()\n",
    "#plt.title('Feature importace')\n",
    "#plt.bar(range(x_train_n.shape[1]), importances[indices], color='r', yerr=std[indices], align=\"center\")\n",
    "#plt.xticks(range(x_train_n.shape[1]))\n",
    "#plt.xlim([-1, x_train_n.shape[1]])\n",
    "#plt.show()"
   ]
  },
  {
   "cell_type": "markdown",
   "id": "2a8e97a7",
   "metadata": {},
   "source": [
    "\n",
    "# 7.0 MACHINE LEARNING MODELLING"
   ]
  },
  {
   "cell_type": "code",
   "execution_count": 21,
   "id": "9eca2c31",
   "metadata": {
    "ExecuteTime": {
     "end_time": "2022-07-22T19:48:09.047561Z",
     "start_time": "2022-07-22T19:48:09.011383Z"
    }
   },
   "outputs": [],
   "source": [
    "cols_select = ['vintage', 'annual_premium', 'age', 'region_code', 'vehicle_damage', 'policy_sales_channel', 'previously_insured']\n",
    "\n",
    "x_train = df5[cols_select]\n",
    "\n",
    "x_val = x_validation[cols_select]\n",
    "y_val = y_validation"
   ]
  },
  {
   "cell_type": "markdown",
   "id": "8eb106b2",
   "metadata": {},
   "source": [
    "## 7.1 KNN "
   ]
  },
  {
   "cell_type": "code",
   "execution_count": 43,
   "id": "3dabf625",
   "metadata": {
    "ExecuteTime": {
     "end_time": "2022-07-19T16:42:28.537614Z",
     "start_time": "2022-07-19T16:42:17.098095Z"
    }
   },
   "outputs": [],
   "source": [
    "# model\n",
    "knn_model = nh.KNeighborsClassifier(n_neighbors=7)\n",
    "\n",
    "# treino do modelo\n",
    "knn_model.fit(x_train, y_train)\n",
    "\n",
    "# predição - Poder de Generalização do Modelo\n",
    "yhat_knn = knn_model.predict_proba(x_val)"
   ]
  },
  {
   "cell_type": "code",
   "execution_count": 44,
   "id": "4e51d84b",
   "metadata": {
    "ExecuteTime": {
     "end_time": "2022-07-19T16:42:28.663440Z",
     "start_time": "2022-07-19T16:42:28.539309Z"
    },
    "cell_style": "split",
    "hide_input": false,
    "scrolled": true
   },
   "outputs": [
    {
     "data": {
      "image/png": "[encoded data removed]",
      "text/plain": [
       "<Figure size 432x288 with 1 Axes>"
      ]
     },
     "metadata": {
      "needs_background": "light"
     },
     "output_type": "display_data"
    }
   ],
   "source": [
    "skplt.metrics.plot_cumulative_gain(y_val, yhat_knn, title = 'Curva de Ganho Acumulado');"
   ]
  },
  {
   "cell_type": "code",
   "execution_count": 45,
   "id": "40eb9bee",
   "metadata": {
    "ExecuteTime": {
     "end_time": "2022-07-19T16:42:28.804489Z",
     "start_time": "2022-07-19T16:42:28.664590Z"
    },
    "cell_style": "split",
    "hide_input": false
   },
   "outputs": [
    {
     "data": {
      "image/png": "[encoded data removed]",
      "text/plain": [
       "<Figure size 432x288 with 1 Axes>"
      ]
     },
     "metadata": {
      "needs_background": "light"
     },
     "output_type": "display_data"
    }
   ],
   "source": [
    "# curva lift\n",
    "skplt.metrics.plot_lift_curve( y_val, yhat_knn,title = 'Lift');"
   ]
  },
  {
   "cell_type": "code",
   "execution_count": 46,
   "id": "9ccdd221",
   "metadata": {
    "ExecuteTime": {
     "end_time": "2022-07-19T16:42:33.048346Z",
     "start_time": "2022-07-19T16:42:28.805151Z"
    }
   },
   "outputs": [
    {
     "data": {
      "text/html": [
       "<div>\n",
       "<style scoped>\n",
       "    .dataframe tbody tr th:only-of-type {\n",
       "        vertical-align: middle;\n",
       "    }\n",
       "\n",
       "    .dataframe tbody tr th {\n",
       "        vertical-align: top;\n",
       "    }\n",
       "\n",
       "    .dataframe thead th {\n",
       "        text-align: right;\n",
       "    }\n",
       "</style>\n",
       "<table border=\"1\" class=\"dataframe\">\n",
       "  <thead>\n",
       "    <tr style=\"text-align: right;\">\n",
       "      <th></th>\n",
       "      <th>Modelo</th>\n",
       "      <th>Precisão</th>\n",
       "      <th>Recall</th>\n",
       "    </tr>\n",
       "  </thead>\n",
       "  <tbody>\n",
       "    <tr>\n",
       "      <th>0</th>\n",
       "      <td>KNN</td>\n",
       "      <td>0.341145</td>\n",
       "      <td>0.133571</td>\n",
       "    </tr>\n",
       "  </tbody>\n",
       "</table>\n",
       "</div>"
      ],
      "text/plain": [
       "  Modelo  Precisão    Recall\n",
       "0    KNN  0.341145  0.133571"
      ]
     },
     "execution_count": 46,
     "metadata": {},
     "output_type": "execute_result"
    }
   ],
   "source": [
    "from sklearn.model_selection import cross_validate\n",
    "\n",
    "knn_results_cv = metrics_score('KNN', knn_model, x_val, y_val)\n",
    "knn_results_cv"
   ]
  },
  {
   "cell_type": "markdown",
   "id": "277f8f20",
   "metadata": {},
   "source": [
    "## 7.2 Regressão Logistica"
   ]
  },
  {
   "cell_type": "code",
   "execution_count": 47,
   "id": "a00616a9",
   "metadata": {
    "ExecuteTime": {
     "end_time": "2022-07-19T16:42:37.917425Z",
     "start_time": "2022-07-19T16:42:33.049481Z"
    }
   },
   "outputs": [],
   "source": [
    "# definindo modelo\n",
    "lr = lm.LogisticRegression(n_jobs=-1, random_state=42)\n",
    "\n",
    "# treino do modelo\n",
    "lr.fit(x_train, y_train)\n",
    "\n",
    "# predição do modelo\n",
    "yhat_lr = lr.predict_proba(x_val)"
   ]
  },
  {
   "cell_type": "code",
   "execution_count": 48,
   "id": "fd486fe9",
   "metadata": {
    "ExecuteTime": {
     "end_time": "2022-07-19T16:42:38.080154Z",
     "start_time": "2022-07-19T16:42:37.919255Z"
    },
    "cell_style": "split",
    "scrolled": false
   },
   "outputs": [
    {
     "data": {
      "image/png": "[encoded data removed]",
      "text/plain": [
       "<Figure size 432x288 with 1 Axes>"
      ]
     },
     "metadata": {
      "needs_background": "light"
     },
     "output_type": "display_data"
    }
   ],
   "source": [
    "skplt.metrics.plot_cumulative_gain(y_val, yhat_lr);"
   ]
  },
  {
   "cell_type": "code",
   "execution_count": 49,
   "id": "cea8ff5c",
   "metadata": {
    "ExecuteTime": {
     "end_time": "2022-07-19T16:42:38.228136Z",
     "start_time": "2022-07-19T16:42:38.081101Z"
    },
    "cell_style": "split"
   },
   "outputs": [
    {
     "data": {
      "image/png": "[encoded data removed]",
      "text/plain": [
       "<Figure size 432x288 with 1 Axes>"
      ]
     },
     "metadata": {
      "needs_background": "light"
     },
     "output_type": "display_data"
    }
   ],
   "source": [
    "# curva lift\n",
    "skplt.metrics.plot_lift_curve( y_val, yhat_lr,title = 'Lift');"
   ]
  },
  {
   "cell_type": "markdown",
   "id": "6f3ad406",
   "metadata": {},
   "source": [
    "## 7.3 XGBoost"
   ]
  },
  {
   "cell_type": "code",
   "execution_count": 50,
   "id": "7daf073c",
   "metadata": {
    "ExecuteTime": {
     "end_time": "2022-07-19T16:42:46.843293Z",
     "start_time": "2022-07-19T16:42:38.230515Z"
    }
   },
   "outputs": [],
   "source": [
    "# definindo modelo\n",
    "bst = xgb.XGBClassifier(n_jobs=-1, random_state=42)\n",
    "\n",
    "# treino do modeloimport xgboost as xgb\n",
    "bst.fit(x_train, y_train)\n",
    "\n",
    "# predição\n",
    "yhat_xgb = bst.predict_proba(x_val)"
   ]
  },
  {
   "cell_type": "code",
   "execution_count": 51,
   "id": "d915c62d",
   "metadata": {
    "ExecuteTime": {
     "end_time": "2022-07-19T16:42:47.016038Z",
     "start_time": "2022-07-19T16:42:46.844293Z"
    },
    "cell_style": "split"
   },
   "outputs": [
    {
     "data": {
      "image/png": "[encoded data removed]",
      "text/plain": [
       "<Figure size 432x288 with 1 Axes>"
      ]
     },
     "metadata": {
      "needs_background": "light"
     },
     "output_type": "display_data"
    }
   ],
   "source": [
    "skplt.metrics.plot_cumulative_gain(y_val, yhat_xgb);"
   ]
  },
  {
   "cell_type": "code",
   "execution_count": 52,
   "id": "6490bb2b",
   "metadata": {
    "ExecuteTime": {
     "end_time": "2022-07-19T16:42:47.170240Z",
     "start_time": "2022-07-19T16:42:47.017123Z"
    },
    "cell_style": "split"
   },
   "outputs": [
    {
     "data": {
      "image/png": "[encoded data removed]",
      "text/plain": [
       "<Figure size 432x288 with 1 Axes>"
      ]
     },
     "metadata": {
      "needs_background": "light"
     },
     "output_type": "display_data"
    }
   ],
   "source": [
    "# curva lift\n",
    "skplt.metrics.plot_lift_curve( y_val, yhat_xgb, title = 'Lift');"
   ]
  },
  {
   "cell_type": "markdown",
   "id": "fb2ebe26",
   "metadata": {},
   "source": [
    "## XGBoost - Cross Validation"
   ]
  },
  {
   "cell_type": "code",
   "execution_count": 53,
   "id": "17f0bbf8",
   "metadata": {
    "ExecuteTime": {
     "end_time": "2022-07-19T16:42:58.506043Z",
     "start_time": "2022-07-19T16:42:47.171268Z"
    },
    "scrolled": true
   },
   "outputs": [
    {
     "data": {
      "text/html": [
       "<div>\n",
       "<style scoped>\n",
       "    .dataframe tbody tr th:only-of-type {\n",
       "        vertical-align: middle;\n",
       "    }\n",
       "\n",
       "    .dataframe tbody tr th {\n",
       "        vertical-align: top;\n",
       "    }\n",
       "\n",
       "    .dataframe thead th {\n",
       "        text-align: right;\n",
       "    }\n",
       "</style>\n",
       "<table border=\"1\" class=\"dataframe\">\n",
       "  <thead>\n",
       "    <tr style=\"text-align: right;\">\n",
       "      <th></th>\n",
       "      <th>Modelo</th>\n",
       "      <th>Precisão</th>\n",
       "      <th>Recall</th>\n",
       "    </tr>\n",
       "  </thead>\n",
       "  <tbody>\n",
       "    <tr>\n",
       "      <th>0</th>\n",
       "      <td>XGBoost</td>\n",
       "      <td>0.38988</td>\n",
       "      <td>0.043877</td>\n",
       "    </tr>\n",
       "  </tbody>\n",
       "</table>\n",
       "</div>"
      ],
      "text/plain": [
       "    Modelo  Precisão    Recall\n",
       "0  XGBoost   0.38988  0.043877"
      ]
     },
     "execution_count": 53,
     "metadata": {},
     "output_type": "execute_result"
    }
   ],
   "source": [
    "xgb_cv_results = metrics_score('XGBoost', bst, x_val, y_val)\n",
    "xgb_cv_results"
   ]
  },
  {
   "cell_type": "markdown",
   "id": "c13fcff1",
   "metadata": {},
   "source": [
    "## 7.4 Random Forest"
   ]
  },
  {
   "cell_type": "code",
   "execution_count": 54,
   "id": "e915df3d",
   "metadata": {
    "ExecuteTime": {
     "end_time": "2022-07-19T16:43:09.863051Z",
     "start_time": "2022-07-19T16:42:58.507043Z"
    }
   },
   "outputs": [],
   "source": [
    "# definindo modelo\n",
    "clf = en.RandomForestClassifier(n_jobs=-1, random_state=42)\n",
    "\n",
    "# treinamento do modelo\n",
    "clf.fit(x_train, y_train)\n",
    "\n",
    "# predição do modelo\n",
    "yhat_rf = clf.predict_proba(x_val)"
   ]
  },
  {
   "cell_type": "code",
   "execution_count": 55,
   "id": "11a924a4",
   "metadata": {
    "ExecuteTime": {
     "end_time": "2022-07-19T16:43:10.055046Z",
     "start_time": "2022-07-19T16:43:09.865046Z"
    },
    "cell_style": "split"
   },
   "outputs": [
    {
     "data": {
      "image/png": "[encoded data removed]",
      "text/plain": [
       "<Figure size 432x288 with 1 Axes>"
      ]
     },
     "metadata": {
      "needs_background": "light"
     },
     "output_type": "display_data"
    }
   ],
   "source": [
    "skplt.metrics.plot_cumulative_gain(y_val, yhat_rf);"
   ]
  },
  {
   "cell_type": "code",
   "execution_count": 56,
   "id": "a7eede49",
   "metadata": {
    "ExecuteTime": {
     "end_time": "2022-07-19T16:43:10.317121Z",
     "start_time": "2022-07-19T16:43:10.057046Z"
    },
    "cell_style": "split"
   },
   "outputs": [
    {
     "data": {
      "image/png": "[encoded data removed]",
      "text/plain": [
       "<Figure size 432x288 with 1 Axes>"
      ]
     },
     "metadata": {
      "needs_background": "light"
     },
     "output_type": "display_data"
    }
   ],
   "source": [
    "# curva lift\n",
    "skplt.metrics.plot_lift_curve( y_val, yhat_rf, title = 'Lift');"
   ]
  },
  {
   "cell_type": "markdown",
   "id": "1deab719",
   "metadata": {},
   "source": [
    "## Random Forest - Cross Validation"
   ]
  },
  {
   "cell_type": "code",
   "execution_count": 57,
   "id": "e36bc1a9",
   "metadata": {
    "ExecuteTime": {
     "end_time": "2022-07-19T16:43:19.199171Z",
     "start_time": "2022-07-19T16:43:10.318245Z"
    },
    "scrolled": true
   },
   "outputs": [
    {
     "data": {
      "text/html": [
       "<div>\n",
       "<style scoped>\n",
       "    .dataframe tbody tr th:only-of-type {\n",
       "        vertical-align: middle;\n",
       "    }\n",
       "\n",
       "    .dataframe tbody tr th {\n",
       "        vertical-align: top;\n",
       "    }\n",
       "\n",
       "    .dataframe thead th {\n",
       "        text-align: right;\n",
       "    }\n",
       "</style>\n",
       "<table border=\"1\" class=\"dataframe\">\n",
       "  <thead>\n",
       "    <tr style=\"text-align: right;\">\n",
       "      <th></th>\n",
       "      <th>Modelo</th>\n",
       "      <th>Precisão</th>\n",
       "      <th>Recall</th>\n",
       "    </tr>\n",
       "  </thead>\n",
       "  <tbody>\n",
       "    <tr>\n",
       "      <th>0</th>\n",
       "      <td>Random Forest</td>\n",
       "      <td>0.356468</td>\n",
       "      <td>0.105218</td>\n",
       "    </tr>\n",
       "  </tbody>\n",
       "</table>\n",
       "</div>"
      ],
      "text/plain": [
       "          Modelo  Precisão    Recall\n",
       "0  Random Forest  0.356468  0.105218"
      ]
     },
     "execution_count": 57,
     "metadata": {},
     "output_type": "execute_result"
    }
   ],
   "source": [
    "rf_cv_results = metrics_score('Random Forest', clf, x_val, y_val)\n",
    "rf_cv_results"
   ]
  },
  {
   "cell_type": "markdown",
   "id": "cb973427",
   "metadata": {},
   "source": [
    "## 7.6 Comparação dos Modelos"
   ]
  },
  {
   "cell_type": "code",
   "execution_count": 58,
   "id": "999f430d",
   "metadata": {
    "ExecuteTime": {
     "end_time": "2022-07-19T16:43:19.215171Z",
     "start_time": "2022-07-19T16:43:19.200171Z"
    },
    "scrolled": true
   },
   "outputs": [
    {
     "data": {
      "text/html": [
       "<div>\n",
       "<style scoped>\n",
       "    .dataframe tbody tr th:only-of-type {\n",
       "        vertical-align: middle;\n",
       "    }\n",
       "\n",
       "    .dataframe tbody tr th {\n",
       "        vertical-align: top;\n",
       "    }\n",
       "\n",
       "    .dataframe thead th {\n",
       "        text-align: right;\n",
       "    }\n",
       "</style>\n",
       "<table border=\"1\" class=\"dataframe\">\n",
       "  <thead>\n",
       "    <tr style=\"text-align: right;\">\n",
       "      <th></th>\n",
       "      <th>Modelo</th>\n",
       "      <th>Precisão</th>\n",
       "      <th>Recall</th>\n",
       "    </tr>\n",
       "  </thead>\n",
       "  <tbody>\n",
       "    <tr>\n",
       "      <th>0</th>\n",
       "      <td>KNN</td>\n",
       "      <td>0.341145</td>\n",
       "      <td>0.133571</td>\n",
       "    </tr>\n",
       "    <tr>\n",
       "      <th>0</th>\n",
       "      <td>Random Forest</td>\n",
       "      <td>0.356468</td>\n",
       "      <td>0.105218</td>\n",
       "    </tr>\n",
       "    <tr>\n",
       "      <th>0</th>\n",
       "      <td>XGBoost</td>\n",
       "      <td>0.389880</td>\n",
       "      <td>0.043877</td>\n",
       "    </tr>\n",
       "  </tbody>\n",
       "</table>\n",
       "</div>"
      ],
      "text/plain": [
       "          Modelo  Precisão    Recall\n",
       "0            KNN  0.341145  0.133571\n",
       "0  Random Forest  0.356468  0.105218\n",
       "0        XGBoost  0.389880  0.043877"
      ]
     },
     "execution_count": 58,
     "metadata": {},
     "output_type": "execute_result"
    }
   ],
   "source": [
    "modelling_result = pd.concat( [knn_results_cv, xgb_cv_results, rf_cv_results] )\n",
    "modelling_result.sort_values( 'Recall', ascending=False )"
   ]
  },
  {
   "cell_type": "markdown",
   "id": "b33ee7bf",
   "metadata": {},
   "source": [
    "# 8.0 HYPERPARAMETERS FINE TUNING"
   ]
  },
  {
   "cell_type": "markdown",
   "id": "04f12657",
   "metadata": {},
   "source": [
    "## 8.1 Random Search CV"
   ]
  },
  {
   "cell_type": "code",
   "execution_count": 59,
   "id": "9b71ea21",
   "metadata": {
    "ExecuteTime": {
     "end_time": "2022-07-19T16:43:19.231172Z",
     "start_time": "2022-07-19T16:43:19.216171Z"
    }
   },
   "outputs": [],
   "source": [
    "from sklearn.model_selection import RandomizedSearchCV"
   ]
  },
  {
   "cell_type": "code",
   "execution_count": 60,
   "id": "779cd69f",
   "metadata": {
    "ExecuteTime": {
     "end_time": "2022-07-19T16:43:19.247171Z",
     "start_time": "2022-07-19T16:43:19.232175Z"
    }
   },
   "outputs": [],
   "source": [
    "#n_estimators = [100, 200, 300, 500]\n",
    "#\n",
    "#max_depth = [3, 5, 10, None]\n",
    "#\n",
    "#min_samples_leaf = [1, 2, 4]\n",
    "#\n",
    "#min_samples_split = [1, 2, 4]\n",
    "#\n",
    "#max_features = ['auto', 'sqrt']\n",
    "#\n",
    "#\n",
    "## creating random grid\n",
    "#\n",
    "#params = {\n",
    "#    'n_estimators': n_estimators,\n",
    "#    'max_depth': max_depth,\n",
    "#    'min_samples_leaf': min_samples_leaf,\n",
    "#    'min_samples_split': min_samples_split,\n",
    "#    'max_features': max_features,\n",
    "#         }"
   ]
  },
  {
   "cell_type": "code",
   "execution_count": 61,
   "id": "062a837c",
   "metadata": {
    "ExecuteTime": {
     "end_time": "2022-07-19T16:43:19.263175Z",
     "start_time": "2022-07-19T16:43:19.248172Z"
    }
   },
   "outputs": [],
   "source": [
    "#random_search = RandomizedSearchCV(estimator=bst,\n",
    "#                                  param_distributions=params, \n",
    "#                                  n_iter=2,\n",
    "#                                  n_jobs=-1, \n",
    "#                                  cv=5, \n",
    "#                                  verbose=2,\n",
    "#                                  random_state=42)\n",
    "#\n",
    "#random_search.fit( x_train, y_train)\n",
    "#random_search.best_params_"
   ]
  },
  {
   "cell_type": "code",
   "execution_count": 62,
   "id": "93aa2335",
   "metadata": {
    "ExecuteTime": {
     "end_time": "2022-07-19T16:43:19.278171Z",
     "start_time": "2022-07-19T16:43:19.265173Z"
    }
   },
   "outputs": [],
   "source": [
    "params_tuned = {'n_estimators': 300,\n",
    " 'min_samples_split': 2,\n",
    " 'min_samples_leaf': 4,\n",
    " 'max_features': 'auto',\n",
    " 'max_depth': 5}"
   ]
  },
  {
   "cell_type": "markdown",
   "id": "57ec0f04",
   "metadata": {},
   "source": [
    "## 8.2 Modelo Final"
   ]
  },
  {
   "cell_type": "code",
   "execution_count": 25,
   "id": "99ca0f5a",
   "metadata": {
    "ExecuteTime": {
     "end_time": "2022-07-19T18:37:32.433204Z",
     "start_time": "2022-07-19T18:36:51.181304Z"
    }
   },
   "outputs": [
    {
     "name": "stdout",
     "output_type": "stream",
     "text": [
      "[15:36:51] WARNING: C:/Users/Administrator/workspace/xgboost-win64_release_1.6.0/src/learner.cc:627: \n",
      "Parameters: { \"max_features\", \"min_samples_leaf\", \"min_samples_split\" } might not be used.\n",
      "\n",
      "  This could be a false alarm, with some parameters getting used by language bindings but\n",
      "  then being mistakenly passed down to XGBoost core, or some parameter actually being used\n",
      "  but getting flagged wrongly here. Please open an issue if you find any such cases.\n",
      "\n",
      "\n",
      "[15:37:07] WARNING: C:/Users/Administrator/workspace/xgboost-win64_release_1.6.0/src/learner.cc:627: \n",
      "Parameters: { \"max_features\", \"min_samples_leaf\", \"min_samples_split\" } might not be used.\n",
      "\n",
      "  This could be a false alarm, with some parameters getting used by language bindings but\n",
      "  then being mistakenly passed down to XGBoost core, or some parameter actually being used\n",
      "  but getting flagged wrongly here. Please open an issue if you find any such cases.\n",
      "\n",
      "\n",
      "[15:37:11] WARNING: C:/Users/Administrator/workspace/xgboost-win64_release_1.6.0/src/learner.cc:627: \n",
      "Parameters: { \"max_features\", \"min_samples_leaf\", \"min_samples_split\" } might not be used.\n",
      "\n",
      "  This could be a false alarm, with some parameters getting used by language bindings but\n",
      "  then being mistakenly passed down to XGBoost core, or some parameter actually being used\n",
      "  but getting flagged wrongly here. Please open an issue if you find any such cases.\n",
      "\n",
      "\n",
      "[15:37:16] WARNING: C:/Users/Administrator/workspace/xgboost-win64_release_1.6.0/src/learner.cc:627: \n",
      "Parameters: { \"max_features\", \"min_samples_leaf\", \"min_samples_split\" } might not be used.\n",
      "\n",
      "  This could be a false alarm, with some parameters getting used by language bindings but\n",
      "  then being mistakenly passed down to XGBoost core, or some parameter actually being used\n",
      "  but getting flagged wrongly here. Please open an issue if you find any such cases.\n",
      "\n",
      "\n",
      "[15:37:20] WARNING: C:/Users/Administrator/workspace/xgboost-win64_release_1.6.0/src/learner.cc:627: \n",
      "Parameters: { \"max_features\", \"min_samples_leaf\", \"min_samples_split\" } might not be used.\n",
      "\n",
      "  This could be a false alarm, with some parameters getting used by language bindings but\n",
      "  then being mistakenly passed down to XGBoost core, or some parameter actually being used\n",
      "  but getting flagged wrongly here. Please open an issue if you find any such cases.\n",
      "\n",
      "\n",
      "[15:37:25] WARNING: C:/Users/Administrator/workspace/xgboost-win64_release_1.6.0/src/learner.cc:627: \n",
      "Parameters: { \"max_features\", \"min_samples_leaf\", \"min_samples_split\" } might not be used.\n",
      "\n",
      "  This could be a false alarm, with some parameters getting used by language bindings but\n",
      "  then being mistakenly passed down to XGBoost core, or some parameter actually being used\n",
      "  but getting flagged wrongly here. Please open an issue if you find any such cases.\n",
      "\n",
      "\n"
     ]
    },
    {
     "data": {
      "text/html": [
       "<div>\n",
       "<style scoped>\n",
       "    .dataframe tbody tr th:only-of-type {\n",
       "        vertical-align: middle;\n",
       "    }\n",
       "\n",
       "    .dataframe tbody tr th {\n",
       "        vertical-align: top;\n",
       "    }\n",
       "\n",
       "    .dataframe thead th {\n",
       "        text-align: right;\n",
       "    }\n",
       "</style>\n",
       "<table border=\"1\" class=\"dataframe\">\n",
       "  <thead>\n",
       "    <tr style=\"text-align: right;\">\n",
       "      <th></th>\n",
       "      <th>Modelo</th>\n",
       "      <th>Precisão</th>\n",
       "      <th>Recall</th>\n",
       "    </tr>\n",
       "  </thead>\n",
       "  <tbody>\n",
       "    <tr>\n",
       "      <th>0</th>\n",
       "      <td>XGB</td>\n",
       "      <td>0.358586</td>\n",
       "      <td>0.075381</td>\n",
       "    </tr>\n",
       "  </tbody>\n",
       "</table>\n",
       "</div>"
      ],
      "text/plain": [
       "  Modelo  Precisão    Recall\n",
       "0    XGB  0.358586  0.075381"
      ]
     },
     "execution_count": 25,
     "metadata": {},
     "output_type": "execute_result"
    }
   ],
   "source": [
    "## model\n",
    "#xgboost_tuned = xgb.XGBClassifier(n_estimators=300,\n",
    "#                                min_samples_split=2,\n",
    "#                                min_samples_leaf=4,\n",
    "#                                max_features='auto',\n",
    "#                                max_depth=5)\n",
    "#\n",
    "#xgboost_tuned.fit( x_train, y_train)\n",
    "#\n",
    "## predict\n",
    "#yhat_xgb_tuned = xgboost_tuned.predict_proba( x_val )\n",
    "#\n",
    "## result\n",
    "#xgb_tuned_result = metrics_score('XGB', xgboost_tuned, x_val, y_val)\n",
    "#xgb_tuned_result"
   ]
  },
  {
   "cell_type": "markdown",
   "id": "0cef2ac0",
   "metadata": {},
   "source": [
    "# 9.0 METRICAS DE PERFOMANCE DO MODELO PARA O NEGÓCIO"
   ]
  },
  {
   "cell_type": "code",
   "execution_count": 64,
   "id": "b04613bc",
   "metadata": {
    "ExecuteTime": {
     "end_time": "2022-07-19T16:44:00.014036Z",
     "start_time": "2022-07-19T16:43:58.327969Z"
    },
    "cell_style": "center",
    "scrolled": true
   },
   "outputs": [
    {
     "data": {
      "text/plain": [
       "<AxesSubplot:xlabel='base_cum_perc', ylabel='lift'>"
      ]
     },
     "execution_count": 64,
     "metadata": {},
     "output_type": "execute_result"
    },
    {
     "data": {
      "image/png": "[encoded data removed]",
      "text/plain": [
       "<Figure size 864x576 with 1 Axes>"
      ]
     },
     "metadata": {
      "needs_background": "light"
     },
     "output_type": "display_data"
    }
   ],
   "source": [
    "results = pd.DataFrame()\n",
    "results['prediction'] = yhat_xgb_tuned[:,1].tolist()\n",
    "results['real'] = y_val.tolist()\n",
    "\n",
    "# ordering by prediction\n",
    "results = results.sort_values( 'prediction', ascending=False )\n",
    "\n",
    "# Percentage of intereset ( Propensity Score )\n",
    "results['real_cum'] = results['real'].cumsum() \n",
    "results['real_cum_perc'] = 100*results['real_cum']/results['real'].sum()\n",
    "\n",
    "# Percentage of Base ( Clients )\n",
    "results['base'] = range( 1, len( results ) + 1  )\n",
    "results['base_cum_perc'] = 100*results['base']/len( results )\n",
    "\n",
    "# Basline model\n",
    "results['baseline'] = results['base_cum_perc']\n",
    "\n",
    "# Lift Calculation\n",
    "results['lift'] = results['real_cum_perc'] / results['base_cum_perc']\n",
    "\n",
    "plt.figure( figsize=(12,8))\n",
    "sns.lineplot( x='base_cum_perc', y='lift', data=results ) "
   ]
  },
  {
   "cell_type": "code",
   "execution_count": 65,
   "id": "0a14cabe",
   "metadata": {
    "ExecuteTime": {
     "end_time": "2022-07-19T16:44:00.105992Z",
     "start_time": "2022-07-19T16:44:00.016040Z"
    },
    "scrolled": true
   },
   "outputs": [
    {
     "data": {
      "text/html": [
       "<div>\n",
       "<style scoped>\n",
       "    .dataframe tbody tr th:only-of-type {\n",
       "        vertical-align: middle;\n",
       "    }\n",
       "\n",
       "    .dataframe tbody tr th {\n",
       "        vertical-align: top;\n",
       "    }\n",
       "\n",
       "    .dataframe thead th {\n",
       "        text-align: right;\n",
       "    }\n",
       "</style>\n",
       "<table border=\"1\" class=\"dataframe\">\n",
       "  <thead>\n",
       "    <tr style=\"text-align: right;\">\n",
       "      <th></th>\n",
       "      <th>index</th>\n",
       "      <th>clients</th>\n",
       "      <th>propensity_score</th>\n",
       "      <th>gross_revenue</th>\n",
       "      <th>cost</th>\n",
       "      <th>base</th>\n",
       "      <th>revenue</th>\n",
       "    </tr>\n",
       "  </thead>\n",
       "  <tbody>\n",
       "    <tr>\n",
       "      <th>8</th>\n",
       "      <td>0.80</td>\n",
       "      <td>0.803407</td>\n",
       "      <td>3</td>\n",
       "      <td>96.408863</td>\n",
       "      <td>3.213629</td>\n",
       "      <td>1.000000</td>\n",
       "      <td>93.195234</td>\n",
       "    </tr>\n",
       "    <tr>\n",
       "      <th>7</th>\n",
       "      <td>0.70</td>\n",
       "      <td>0.700994</td>\n",
       "      <td>20</td>\n",
       "      <td>560.795355</td>\n",
       "      <td>2.803977</td>\n",
       "      <td>0.777153</td>\n",
       "      <td>557.991378</td>\n",
       "    </tr>\n",
       "    <tr>\n",
       "      <th>6</th>\n",
       "      <td>0.60</td>\n",
       "      <td>0.600742</td>\n",
       "      <td>71</td>\n",
       "      <td>1706.107230</td>\n",
       "      <td>2.402968</td>\n",
       "      <td>0.582713</td>\n",
       "      <td>1703.704262</td>\n",
       "    </tr>\n",
       "    <tr>\n",
       "      <th>5</th>\n",
       "      <td>0.50</td>\n",
       "      <td>0.500015</td>\n",
       "      <td>504</td>\n",
       "      <td>10080.296803</td>\n",
       "      <td>2.000059</td>\n",
       "      <td>0.416081</td>\n",
       "      <td>10078.296744</td>\n",
       "    </tr>\n",
       "    <tr>\n",
       "      <th>4</th>\n",
       "      <td>0.40</td>\n",
       "      <td>0.400008</td>\n",
       "      <td>3138</td>\n",
       "      <td>50208.999538</td>\n",
       "      <td>1.600032</td>\n",
       "      <td>0.277388</td>\n",
       "      <td>50207.399507</td>\n",
       "    </tr>\n",
       "    <tr>\n",
       "      <th>3</th>\n",
       "      <td>0.30</td>\n",
       "      <td>0.300008</td>\n",
       "      <td>9355</td>\n",
       "      <td>112262.915140</td>\n",
       "      <td>1.200031</td>\n",
       "      <td>0.166435</td>\n",
       "      <td>112261.715109</td>\n",
       "    </tr>\n",
       "    <tr>\n",
       "      <th>2</th>\n",
       "      <td>0.20</td>\n",
       "      <td>0.200018</td>\n",
       "      <td>10509</td>\n",
       "      <td>84079.423918</td>\n",
       "      <td>0.800071</td>\n",
       "      <td>0.083220</td>\n",
       "      <td>84078.623847</td>\n",
       "    </tr>\n",
       "    <tr>\n",
       "      <th>1</th>\n",
       "      <td>0.10</td>\n",
       "      <td>0.100002</td>\n",
       "      <td>8075</td>\n",
       "      <td>32300.510667</td>\n",
       "      <td>0.400006</td>\n",
       "      <td>0.027739</td>\n",
       "      <td>32300.110661</td>\n",
       "    </tr>\n",
       "    <tr>\n",
       "      <th>0</th>\n",
       "      <td>0.01</td>\n",
       "      <td>0.000004</td>\n",
       "      <td>44547</td>\n",
       "      <td>7.689334</td>\n",
       "      <td>0.000017</td>\n",
       "      <td>0.000001</td>\n",
       "      <td>7.689316</td>\n",
       "    </tr>\n",
       "  </tbody>\n",
       "</table>\n",
       "</div>"
      ],
      "text/plain": [
       "   index   clients  propensity_score  gross_revenue      cost      base  \\\n",
       "8   0.80  0.803407                 3      96.408863  3.213629  1.000000   \n",
       "7   0.70  0.700994                20     560.795355  2.803977  0.777153   \n",
       "6   0.60  0.600742                71    1706.107230  2.402968  0.582713   \n",
       "5   0.50  0.500015               504   10080.296803  2.000059  0.416081   \n",
       "4   0.40  0.400008              3138   50208.999538  1.600032  0.277388   \n",
       "3   0.30  0.300008              9355  112262.915140  1.200031  0.166435   \n",
       "2   0.20  0.200018             10509   84079.423918  0.800071  0.083220   \n",
       "1   0.10  0.100002              8075   32300.510667  0.400006  0.027739   \n",
       "0   0.01  0.000004             44547       7.689334  0.000017  0.000001   \n",
       "\n",
       "         revenue  \n",
       "8      93.195234  \n",
       "7     557.991378  \n",
       "6    1703.704262  \n",
       "5   10078.296744  \n",
       "4   50207.399507  \n",
       "3  112261.715109  \n",
       "2   84078.623847  \n",
       "1   32300.110661  \n",
       "0       7.689316  "
      ]
     },
     "execution_count": 65,
     "metadata": {},
     "output_type": "execute_result"
    }
   ],
   "source": [
    "# Compute bucket\n",
    "results['bucket'] = results['prediction'].apply( lambda x: 0.9 if x >= 0.90 else \n",
    "                                                           0.8 if ( x >= 0.80) & ( x <= 0.90 ) else \n",
    "                                                           0.7 if ( x >= 0.70) & ( x <= 0.80 ) else \n",
    "                                                           0.6 if ( x >= 0.60) & ( x <= 0.70 ) else \n",
    "                                                           0.5 if ( x >= 0.50) & ( x <= 0.60 ) else \n",
    "                                                           0.4 if ( x >= 0.40) & ( x <= 0.50 ) else \n",
    "                                                           0.3 if ( x >= 0.30) & ( x <= 0.40 ) else \n",
    "                                                           0.2 if ( x >= 0.20) & ( x <= 0.30 ) else \n",
    "                                                           0.1 if ( x >= 0.10) & ( x <= 0.20 ) else 0.01 )\n",
    "\n",
    "#  Aggregate clients among buckets\n",
    "df = results[['prediction','bucket']].groupby( 'bucket' ).agg( {'min', 'count'} ).reset_index()\n",
    "df.columns = df.columns.droplevel()\n",
    "df.columns = ['index', 'clients', 'propensity_score']\n",
    "\n",
    "# Compute revenue and cost\n",
    "df['gross_revenue'] = 40 * df['clients'] * df['propensity_score'] \n",
    "df['cost'] = 4 * df['clients']\n",
    "\n",
    "df['base'] = df['clients'].sort_values( ascending=True ).cumsum() / df['clients'].sum()\n",
    "\n",
    "# revenue\n",
    "df['revenue'] = df['gross_revenue'] - df['cost']\n",
    "df = df.sort_values( 'index', ascending=False )\n",
    "df"
   ]
  },
  {
   "cell_type": "code",
   "execution_count": 66,
   "id": "737b0d29",
   "metadata": {
    "ExecuteTime": {
     "end_time": "2022-07-19T16:44:00.245007Z",
     "start_time": "2022-07-19T16:44:00.106992Z"
    },
    "scrolled": true
   },
   "outputs": [
    {
     "data": {
      "text/plain": [
       "<AxesSubplot:xlabel='base', ylabel='revenue'>"
      ]
     },
     "execution_count": 66,
     "metadata": {},
     "output_type": "execute_result"
    },
    {
     "data": {
      "image/png": "[encoded data removed]",
      "text/plain": [
       "<Figure size 864x576 with 1 Axes>"
      ]
     },
     "metadata": {
      "needs_background": "light"
     },
     "output_type": "display_data"
    }
   ],
   "source": [
    "plt.figure( figsize=(12,8))\n",
    "aux = df[df['propensity_score'] >= 0.1]\n",
    "sns.lineplot( x='base', y='revenue', data=aux )"
   ]
  },
  {
   "cell_type": "markdown",
   "id": "142f2428",
   "metadata": {},
   "source": [
    "Próximos Passos:\n",
    "- Criar APP no Heroku "
   ]
  },
  {
   "cell_type": "markdown",
   "id": "d6f39338",
   "metadata": {},
   "source": [
    "# 10.0 DEPLOY DO MODELO PARA PRODUÇÃO"
   ]
  },
  {
   "cell_type": "code",
   "execution_count": 26,
   "id": "b41a5892",
   "metadata": {
    "ExecuteTime": {
     "end_time": "2022-07-19T18:37:50.205035Z",
     "start_time": "2022-07-19T18:37:50.185037Z"
    }
   },
   "outputs": [],
   "source": [
    "#with open(\"C:/Users/vinic/Desktop/Pessoal/repos/ranking-potenciais-clientes/src/models/xgb_tuned.pkl\", 'wb') as f:\n",
    "#    pickle.dump(xgboost_tuned, f)"
   ]
  },
  {
   "cell_type": "markdown",
   "id": "5622e088",
   "metadata": {},
   "source": [
    "## 10.1 Criação da Classe Health Insurance Cross Selling"
   ]
  },
  {
   "cell_type": "code",
   "execution_count": 20,
   "id": "daa764c7",
   "metadata": {
    "ExecuteTime": {
     "end_time": "2022-07-20T16:46:23.215232Z",
     "start_time": "2022-07-20T16:46:23.191233Z"
    }
   },
   "outputs": [],
   "source": [
    "import pickle\n",
    "import numpy as np\n",
    "import pandas as pd\n",
    "\n",
    "class HealthInsurance(object):\n",
    "\n",
    "    def __init__(self):\n",
    "\n",
    "        self.home_path = 'C:/Users/vinic/Desktop/Pessoal/repos/ranking-potenciais-clientes/'\n",
    "        self.annual_premium = pickle.load( open( self.home_path + \"src/features/annual_premium.pkl\", 'rb'))\n",
    "        self.fe_policy_sales_channel = pickle.load( open( self.home_path + 'src/features/fe_policy_sales_channel.pkl', 'rb'))\n",
    "        self.mms_age = pickle.load( open( self.home_path + 'src/features/mms_age.pkl', 'rb'))\n",
    "        self.mss_vintage = pickle.load( open( self.home_path + 'src/features/mss_vintage.pkl', 'rb'))\n",
    "        self.target_encoding_gender = pickle.load( open( self.home_path + 'src/features/target_encoding_gender.pkl', 'rb'))\n",
    "        self.target_encoding_region_code = pickle.load( open( self.home_path + 'src/features/target_encoding_region_code.pkl', 'rb'))\n",
    "\n",
    "    def data_cleaning (self, data):\n",
    "\n",
    "        new_columns = ['id',\n",
    "                        'gender',\n",
    "                        'age',\n",
    "                        'driving_license',\n",
    "                        'region_code',\n",
    "                        'previously_insured',\n",
    "                        'vehicle_age',\n",
    "                        'vehicle_damage',\n",
    "                        'annual_premium',\n",
    "                        'policy_sales_channel',\n",
    "                        'vintage',\n",
    "                        'response']\n",
    "\n",
    "        data.columns = new_columns\n",
    "\n",
    "        return data\n",
    "\n",
    "    def feature_engineering(self, data):\n",
    "\n",
    "        data['vehicle_age'] = data['vehicle_age'].apply(lambda x: 'over_2_years' if x == '> 2 Years' else 'between_1_2_year' if x == '1-2 Year' else 'below_1_year')\n",
    "\n",
    "        data['vehicle_damage'] = data['vehicle_damage'].apply(lambda x: 0 if x == 'No' else 1)\n",
    "\n",
    "        return data\n",
    "\n",
    "    def data_preparation( self, data ):\n",
    "        # anual premium - StandarScaler\n",
    "        data['annual_premium'] = self.annual_premium.transform( data[['annual_premium']].values )\n",
    "\n",
    "        # Age - MinMaxScaler\n",
    "        data['age'] = self.mms_age.transform( data[['age']].values )\n",
    "\n",
    "        # Vintage - MinMaxScaler\n",
    "        data['vintage'] = self.mss_vintage.transform( data[['vintage']].values )\n",
    "\n",
    "        #gender - One Hot Encoding / Target Encoding\n",
    "        data.loc[:, 'gender'] = data['gender'].map( self.target_encoding_gender )\n",
    "\n",
    "        #region_code - Target Encoding / Frequency Encoding\n",
    "        data.loc[:, 'region_code'] = data['region_code'].map( self.target_encoding_region_code )\n",
    "\n",
    "        #vehicle_age - One Hot Encoding / Frequency Encoding\n",
    "        data = pd.get_dummies( data, prefix='vehicle_age', columns=['vehicle_age'] )\n",
    "\n",
    "        # policy_sales_channel - Target Encoding / Frequency Encoding\n",
    "        data.loc[:, 'policy_sales_channel'] = data['policy_sales_channel'].map( self.fe_policy_sales_channel )\n",
    "\n",
    "        # Feature Selection\n",
    "        cols_selected = ['annual_premium', 'vintage', 'age', 'region_code', 'vehicle_damage', 'previously_insured',\n",
    "                         'policy_sales_channel']\n",
    "\n",
    "        return data[ cols_selected ]\n",
    "\n",
    "    def get_prediction(self, model, original_data, test_data):\n",
    "\n",
    "        #model prediction\n",
    "        pred = model.predict_proba(test_data)\n",
    "\n",
    "        #join predict into original data\n",
    "        original_data['score'] = pred[:, 1].tolist()\n",
    "\n",
    "        return original_data.to_json( orient='records', date_format='iso')"
   ]
  },
  {
   "cell_type": "markdown",
   "id": "851fde23",
   "metadata": {},
   "source": [
    "## 10.2 API Handler"
   ]
  },
  {
   "cell_type": "code",
   "execution_count": 19,
   "id": "80f4b28e",
   "metadata": {
    "ExecuteTime": {
     "end_time": "2022-07-20T16:46:10.286539Z",
     "start_time": "2022-07-20T16:46:10.266509Z"
    }
   },
   "outputs": [
    {
     "ename": "ModuleNotFoundError",
     "evalue": "No module named 'healthinsurance'",
     "output_type": "error",
     "traceback": [
      "\u001b[1;31m---------------------------------------------------------------------------\u001b[0m",
      "\u001b[1;31mModuleNotFoundError\u001b[0m                       Traceback (most recent call last)",
      "\u001b[1;32m~\\AppData\\Local\\Temp/ipykernel_12024/3358119080.py\u001b[0m in \u001b[0;36m<module>\u001b[1;34m\u001b[0m\n\u001b[0;32m      2\u001b[0m \u001b[1;32mimport\u001b[0m \u001b[0mpandas\u001b[0m \u001b[1;32mas\u001b[0m \u001b[0mpd\u001b[0m\u001b[1;33m\u001b[0m\u001b[1;33m\u001b[0m\u001b[0m\n\u001b[0;32m      3\u001b[0m \u001b[1;32mfrom\u001b[0m \u001b[0mflask\u001b[0m \u001b[1;32mimport\u001b[0m \u001b[0mFlask\u001b[0m\u001b[1;33m,\u001b[0m \u001b[0mrequest\u001b[0m\u001b[1;33m,\u001b[0m \u001b[0mResponse\u001b[0m\u001b[1;33m\u001b[0m\u001b[1;33m\u001b[0m\u001b[0m\n\u001b[1;32m----> 4\u001b[1;33m \u001b[1;32mfrom\u001b[0m \u001b[0mhealthinsurance\u001b[0m \u001b[1;32mimport\u001b[0m \u001b[0mHealthInsurance\u001b[0m\u001b[1;33m\u001b[0m\u001b[1;33m\u001b[0m\u001b[0m\n\u001b[0m\u001b[0;32m      5\u001b[0m \u001b[1;33m\u001b[0m\u001b[0m\n\u001b[0;32m      6\u001b[0m \u001b[0mpath\u001b[0m \u001b[1;33m=\u001b[0m \u001b[1;34m'C:/Users/vinic/Desktop/Pessoal/repos/ranking-potenciais-clientes/'\u001b[0m\u001b[1;33m\u001b[0m\u001b[1;33m\u001b[0m\u001b[0m\n",
      "\u001b[1;31mModuleNotFoundError\u001b[0m: No module named 'healthinsurance'"
     ]
    }
   ],
   "source": [
    "import pickle\n",
    "import pandas as pd\n",
    "from flask import Flask, request, Response\n",
    "from healthinsurance import HealthInsurance\n",
    "\n",
    "path = 'C:/Users/vinic/Desktop/Pessoal/repos/ranking-potenciais-clientes/'\n",
    "model = pickle.load(open(path + 'src/models/xgb_tuned.pkl', 'rb'))"
   ]
  },
  {
   "cell_type": "code",
   "execution_count": null,
   "id": "65d71b49",
   "metadata": {
    "ExecuteTime": {
     "start_time": "2022-07-20T16:46:25.873Z"
    }
   },
   "outputs": [
    {
     "name": "stdout",
     "output_type": "stream",
     "text": [
      " * Serving Flask app \"__main__\" (lazy loading)\n",
      " * Environment: production\n",
      "\u001b[31m   WARNING: This is a development server. Do not use it in a production deployment.\u001b[0m\n",
      "\u001b[2m   Use a production WSGI server instead.\u001b[0m\n",
      " * Debug mode: off\n"
     ]
    },
    {
     "name": "stderr",
     "output_type": "stream",
     "text": [
      " * Running on all addresses.\n",
      "   WARNING: This is a development server. Do not use it in a production deployment.\n",
      " * Running on http://192.168.9.171:5000/ (Press CTRL+C to quit)\n",
      "192.168.9.171 - - [20/Jul/2022 13:46:29] \"GET / HTTP/1.1\" 404 -\n",
      "192.168.9.171 - - [20/Jul/2022 13:46:29] \"GET /favicon.ico HTTP/1.1\" 404 -\n"
     ]
    }
   ],
   "source": [
    "#inicializa API\n",
    "app = Flask(__name__)\n",
    "\n",
    "\n",
    "@app.route(\"/healthinsurance/predict\", methods=['POST'])\n",
    "def health_insurance_predict():\n",
    "    test_json = request.get_json()\n",
    "    \n",
    "    if test_json: # existe dados\n",
    "        if isinstance(test_json, dict):\n",
    "            test_raw = pd.DataFrame(test_json, index=[0])\n",
    "            \n",
    "        else:\n",
    "            test_raw = pd.DataFrame( test_json, columns=test_json[0].keys() )\n",
    "        \n",
    "        # instanciando a Classe HealthInsurance\n",
    "        pipeline = HealthInsurace()\n",
    "        \n",
    "        # data_cleaning\n",
    "        df1 = pipeline.data_cleaning(test_raw)\n",
    "        \n",
    "        # feature engineering\n",
    "        df2 = pipeline.feature_engineering(df1)\n",
    "        \n",
    "        # data preparation\n",
    "        df3 = pipeline.data_preparation(df2)\n",
    "        \n",
    "        # get_prediction\n",
    "        df_response = pipeline.get_prediction(model, test_raw, df3)\n",
    "        \n",
    "        return df_response\n",
    "    else:\n",
    "        return Response('{}', status=200, mimetype='application/json')\n",
    "            \n",
    "if __name__ == '__main__':\n",
    "    app.run( '0.0.0.0')"
   ]
  },
  {
   "cell_type": "markdown",
   "id": "939b8d9b",
   "metadata": {},
   "source": [
    "## 10.3 API Tester"
   ]
  },
  {
   "cell_type": "code",
   "execution_count": 23,
   "id": "973f4492",
   "metadata": {
    "ExecuteTime": {
     "end_time": "2022-07-22T19:48:34.785461Z",
     "start_time": "2022-07-22T19:48:34.709490Z"
    }
   },
   "outputs": [],
   "source": [
    "import requests"
   ]
  },
  {
   "cell_type": "code",
   "execution_count": 24,
   "id": "51d5bdd5",
   "metadata": {
    "ExecuteTime": {
     "end_time": "2022-07-22T19:48:36.080155Z",
     "start_time": "2022-07-22T19:48:36.073156Z"
    }
   },
   "outputs": [],
   "source": [
    "df_test = x_validation\n",
    "df_test['response'] = y_validation"
   ]
  },
  {
   "cell_type": "code",
   "execution_count": 25,
   "id": "6187c168",
   "metadata": {
    "ExecuteTime": {
     "end_time": "2022-07-22T19:48:36.769846Z",
     "start_time": "2022-07-22T19:48:36.744860Z"
    }
   },
   "outputs": [],
   "source": [
    "df_test = df_test.sample(10)"
   ]
  },
  {
   "cell_type": "code",
   "execution_count": 26,
   "id": "7b6caaff",
   "metadata": {
    "ExecuteTime": {
     "end_time": "2022-07-22T19:48:41.484026Z",
     "start_time": "2022-07-22T19:48:41.464026Z"
    }
   },
   "outputs": [],
   "source": [
    "# convert dataframe to json\n",
    "data = json.dumps( df_test.to_dict( orient='records' ) )"
   ]
  },
  {
   "cell_type": "code",
   "execution_count": 27,
   "id": "75636082",
   "metadata": {
    "ExecuteTime": {
     "end_time": "2022-07-22T19:48:41.935702Z",
     "start_time": "2022-07-22T19:48:41.931699Z"
    },
    "scrolled": true
   },
   "outputs": [
    {
     "data": {
      "text/plain": [
       "'[{\"id\": 225393, \"gender\": \"Male\", \"age\": 26, \"driving_license\": 1, \"region_code\": 31.0, \"previously_insured\": 0, \"vehicle_age\": \"below_1_year\", \"vehicle_damage\": 0, \"annual_premium\": 2630.0, \"policy_sales_channel\": 152.0, \"vintage\": 104, \"response\": 0}, {\"id\": 263885, \"gender\": \"Female\", \"age\": 27, \"driving_license\": 1, \"region_code\": 50.0, \"previously_insured\": 1, \"vehicle_age\": \"below_1_year\", \"vehicle_damage\": 0, \"annual_premium\": 32689.0, \"policy_sales_channel\": 152.0, \"vintage\": 242, \"response\": 0}, {\"id\": 177045, \"gender\": \"Female\", \"age\": 22, \"driving_license\": 1, \"region_code\": 49.0, \"previously_insured\": 0, \"vehicle_age\": \"below_1_year\", \"vehicle_damage\": 1, \"annual_premium\": 19038.0, \"policy_sales_channel\": 152.0, \"vintage\": 46, \"response\": 0}, {\"id\": 301388, \"gender\": \"Male\", \"age\": 26, \"driving_license\": 1, \"region_code\": 8.0, \"previously_insured\": 1, \"vehicle_age\": \"below_1_year\", \"vehicle_damage\": 0, \"annual_premium\": 28407.0, \"policy_sales_channel\": 152.0, \"vintage\": 71, \"response\": 0}, {\"id\": 131505, \"gender\": \"Female\", \"age\": 45, \"driving_license\": 1, \"region_code\": 11.0, \"previously_insured\": 0, \"vehicle_age\": \"between_1_2_year\", \"vehicle_damage\": 0, \"annual_premium\": 35611.0, \"policy_sales_channel\": 26.0, \"vintage\": 17, \"response\": 0}, {\"id\": 359674, \"gender\": \"Female\", \"age\": 22, \"driving_license\": 1, \"region_code\": 30.0, \"previously_insured\": 1, \"vehicle_age\": \"below_1_year\", \"vehicle_damage\": 0, \"annual_premium\": 25181.0, \"policy_sales_channel\": 152.0, \"vintage\": 86, \"response\": 0}, {\"id\": 206511, \"gender\": \"Female\", \"age\": 22, \"driving_license\": 1, \"region_code\": 28.0, \"previously_insured\": 1, \"vehicle_age\": \"below_1_year\", \"vehicle_damage\": 0, \"annual_premium\": 65413.0, \"policy_sales_channel\": 152.0, \"vintage\": 22, \"response\": 0}, {\"id\": 80295, \"gender\": \"Male\", \"age\": 58, \"driving_license\": 1, \"region_code\": 28.0, \"previously_insured\": 0, \"vehicle_age\": \"between_1_2_year\", \"vehicle_damage\": 1, \"annual_premium\": 51629.0, \"policy_sales_channel\": 26.0, \"vintage\": 132, \"response\": 0}, {\"id\": 196718, \"gender\": \"Male\", \"age\": 25, \"driving_license\": 1, \"region_code\": 28.0, \"previously_insured\": 1, \"vehicle_age\": \"below_1_year\", \"vehicle_damage\": 0, \"annual_premium\": 62754.0, \"policy_sales_channel\": 152.0, \"vintage\": 21, \"response\": 0}, {\"id\": 153246, \"gender\": \"Male\", \"age\": 52, \"driving_license\": 1, \"region_code\": 52.0, \"previously_insured\": 0, \"vehicle_age\": \"between_1_2_year\", \"vehicle_damage\": 0, \"annual_premium\": 41257.0, \"policy_sales_channel\": 26.0, \"vintage\": 146, \"response\": 1}]'"
      ]
     },
     "execution_count": 27,
     "metadata": {},
     "output_type": "execute_result"
    }
   ],
   "source": [
    "data"
   ]
  },
  {
   "cell_type": "code",
   "execution_count": 32,
   "id": "a3a96889",
   "metadata": {
    "ExecuteTime": {
     "end_time": "2022-07-22T20:00:36.261710Z",
     "start_time": "2022-07-22T20:00:35.624597Z"
    }
   },
   "outputs": [
    {
     "name": "stdout",
     "output_type": "stream",
     "text": [
      "Status Code 500\n"
     ]
    }
   ],
   "source": [
    "# API Call\n",
    "#url = 'http://127.0.0.1:5000/predict'\n",
    "url = 'https://model001-marcus.herokuapp.com/predict'\n",
    "header = {'Content-type': 'application/json' }\n",
    "\n",
    "r = requests.post( url, data=data, headers=header )\n",
    "print( 'Status Code {}'.format( r.status_code ) )"
   ]
  },
  {
   "cell_type": "code",
   "execution_count": 51,
   "id": "48d9b689",
   "metadata": {
    "ExecuteTime": {
     "end_time": "2022-07-20T16:52:27.347413Z",
     "start_time": "2022-07-20T16:52:27.324413Z"
    }
   },
   "outputs": [
    {
     "data": {
      "text/html": [
       "<div>\n",
       "<style scoped>\n",
       "    .dataframe tbody tr th:only-of-type {\n",
       "        vertical-align: middle;\n",
       "    }\n",
       "\n",
       "    .dataframe tbody tr th {\n",
       "        vertical-align: top;\n",
       "    }\n",
       "\n",
       "    .dataframe thead th {\n",
       "        text-align: right;\n",
       "    }\n",
       "</style>\n",
       "<table border=\"1\" class=\"dataframe\">\n",
       "  <thead>\n",
       "    <tr style=\"text-align: right;\">\n",
       "      <th></th>\n",
       "      <th>id</th>\n",
       "      <th>gender</th>\n",
       "      <th>age</th>\n",
       "      <th>driving_license</th>\n",
       "      <th>region_code</th>\n",
       "      <th>previously_insured</th>\n",
       "      <th>vehicle_age</th>\n",
       "      <th>vehicle_damage</th>\n",
       "      <th>annual_premium</th>\n",
       "      <th>policy_sales_channel</th>\n",
       "      <th>vintage</th>\n",
       "      <th>response</th>\n",
       "      <th>score</th>\n",
       "    </tr>\n",
       "  </thead>\n",
       "  <tbody>\n",
       "    <tr>\n",
       "      <th>9</th>\n",
       "      <td>137167</td>\n",
       "      <td>0.103502</td>\n",
       "      <td>0.153846</td>\n",
       "      <td>1</td>\n",
       "      <td>0.186877</td>\n",
       "      <td>1</td>\n",
       "      <td>below_1_year</td>\n",
       "      <td>1</td>\n",
       "      <td>2.813720</td>\n",
       "      <td>152.0</td>\n",
       "      <td>0.882353</td>\n",
       "      <td>0</td>\n",
       "      <td>0.471052</td>\n",
       "    </tr>\n",
       "    <tr>\n",
       "      <th>7</th>\n",
       "      <td>274687</td>\n",
       "      <td>0.103502</td>\n",
       "      <td>0.138462</td>\n",
       "      <td>1</td>\n",
       "      <td>0.127003</td>\n",
       "      <td>1</td>\n",
       "      <td>below_1_year</td>\n",
       "      <td>1</td>\n",
       "      <td>0.269840</td>\n",
       "      <td>124.0</td>\n",
       "      <td>0.155709</td>\n",
       "      <td>0</td>\n",
       "      <td>0.314358</td>\n",
       "    </tr>\n",
       "    <tr>\n",
       "      <th>2</th>\n",
       "      <td>307039</td>\n",
       "      <td>0.103502</td>\n",
       "      <td>0.046154</td>\n",
       "      <td>1</td>\n",
       "      <td>0.150223</td>\n",
       "      <td>1</td>\n",
       "      <td>below_1_year</td>\n",
       "      <td>1</td>\n",
       "      <td>-0.071892</td>\n",
       "      <td>152.0</td>\n",
       "      <td>0.044983</td>\n",
       "      <td>0</td>\n",
       "      <td>0.259114</td>\n",
       "    </tr>\n",
       "    <tr>\n",
       "      <th>4</th>\n",
       "      <td>178926</td>\n",
       "      <td>0.137779</td>\n",
       "      <td>0.338462</td>\n",
       "      <td>1</td>\n",
       "      <td>0.186877</td>\n",
       "      <td>0</td>\n",
       "      <td>below_1_year</td>\n",
       "      <td>1</td>\n",
       "      <td>0.516351</td>\n",
       "      <td>26.0</td>\n",
       "      <td>0.851211</td>\n",
       "      <td>0</td>\n",
       "      <td>0.242116</td>\n",
       "    </tr>\n",
       "    <tr>\n",
       "      <th>3</th>\n",
       "      <td>37705</td>\n",
       "      <td>0.103502</td>\n",
       "      <td>0.292308</td>\n",
       "      <td>1</td>\n",
       "      <td>0.186877</td>\n",
       "      <td>1</td>\n",
       "      <td>below_1_year</td>\n",
       "      <td>1</td>\n",
       "      <td>0.903204</td>\n",
       "      <td>24.0</td>\n",
       "      <td>0.487889</td>\n",
       "      <td>0</td>\n",
       "      <td>0.229212</td>\n",
       "    </tr>\n",
       "  </tbody>\n",
       "</table>\n",
       "</div>"
      ],
      "text/plain": [
       "       id    gender       age  driving_license  region_code  \\\n",
       "9  137167  0.103502  0.153846                1     0.186877   \n",
       "7  274687  0.103502  0.138462                1     0.127003   \n",
       "2  307039  0.103502  0.046154                1     0.150223   \n",
       "4  178926  0.137779  0.338462                1     0.186877   \n",
       "3   37705  0.103502  0.292308                1     0.186877   \n",
       "\n",
       "   previously_insured   vehicle_age  vehicle_damage  annual_premium  \\\n",
       "9                   1  below_1_year               1        2.813720   \n",
       "7                   1  below_1_year               1        0.269840   \n",
       "2                   1  below_1_year               1       -0.071892   \n",
       "4                   0  below_1_year               1        0.516351   \n",
       "3                   1  below_1_year               1        0.903204   \n",
       "\n",
       "   policy_sales_channel   vintage  response     score  \n",
       "9                 152.0  0.882353         0  0.471052  \n",
       "7                 124.0  0.155709         0  0.314358  \n",
       "2                 152.0  0.044983         0  0.259114  \n",
       "4                  26.0  0.851211         0  0.242116  \n",
       "3                  24.0  0.487889         0  0.229212  "
      ]
     },
     "execution_count": 51,
     "metadata": {},
     "output_type": "execute_result"
    }
   ],
   "source": [
    "d1 = pd.DataFrame( r.json(), columns=r.json()[0].keys() )\n",
    "d1.sort_values( 'score', ascending=False ).head()"
   ]
  },
  {
   "cell_type": "code",
   "execution_count": null,
   "id": "60ceab84",
   "metadata": {},
   "outputs": [],
   "source": []
  }
 ],
 "metadata": {
  "kernelspec": {
   "display_name": "Python 3 (ipykernel)",
   "language": "python",
   "name": "python3"
  },
  "language_info": {
   "codemirror_mode": {
    "name": "ipython",
    "version": 3
   },
   "file_extension": ".py",
   "mimetype": "text/x-python",
   "name": "python",
   "nbconvert_exporter": "python",
   "pygments_lexer": "ipython3",
   "version": "3.9.13"
  }
 },
 "nbformat": 4,
 "nbformat_minor": 5
}
